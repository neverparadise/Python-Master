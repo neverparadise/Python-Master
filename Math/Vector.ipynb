{
 "cells": [
  {
   "cell_type": "markdown",
   "id": "59830d8e",
   "metadata": {},
   "source": [
    "# Vector Class  \n",
    "\n",
    "여러분은 그동안 기초적인 클래스 문법을 배우고 상속, 메소드 오버라이딩까지 배웠습니다  \n",
    "이번 주에는 선형대수, 확률 통계에 대한 진입장벽을 낮추기 위해 직접 수학 개념들에 대한 클래스를 만들고 함수를 작성해보겠습니다\n",
    " "
   ]
  },
  {
   "cell_type": "markdown",
   "id": "546736a7",
   "metadata": {},
   "source": [
    "## 학습 목표  \n",
    "  - 지난 주에 구현한 포인터 클래스를 통해 연산자 오버로딩 익힌다.\n",
    "  - N차원 벡터를 클래스를 통해 구현한다. \n",
    "  - 조건문과 반복문을 통해 생성자의 argument type을 검사하고 멤버변수에 정확하게 입력값을 할당한다. \n",
    "  - push, pop을 익힌다. \n",
    "  - 벡터의 덧셈과 뺄셈을 연산자 오버로딩으로 구현한다. \n",
    "  - 연산자 오버로딩을 활용하여 벡터의 내적을 계산을 구현한다. \n",
    "  - 두 벡터의 유사도를 구하는 함수를 구현한다. \n",
    "  - 코드 리팩터링을 통해 반복을 줄인다. "
   ]
  },
  {
   "cell_type": "code",
   "execution_count": null,
   "id": "fa6260e5",
   "metadata": {},
   "outputs": [],
   "source": [
    "# 연산자 오버로딩 : 클래스의 인스턴스들끼리 수치 연산자를 이용해 연산을 진행하고 싶을 때 구현하는 메소드\n"
   ]
  },
  {
   "cell_type": "markdown",
   "id": "603576b9",
   "metadata": {},
   "source": [
    "### Point Class 에서의 연산자 오버로딩 \n",
    "  \n",
    "지난 주에 작성했던 Point Class가 기억나시나요?  \n",
    "Point는 좌표공간에서 점으로 표현되고 이는 벡터로 생각할 수 있습니다.   \n"
   ]
  },
  {
   "cell_type": "code",
   "execution_count": 12,
   "id": "1b5c4bbb",
   "metadata": {},
   "outputs": [],
   "source": [
    "class Point2D:\n",
    "    \n",
    "    def __init__(self, x, y):\n",
    "        self.__x = x\n",
    "        self.__y = y\n",
    "    \n",
    "    def set_coord(self, x, y):\n",
    "        self.__x = x\n",
    "        self.__y = y\n",
    "    \n",
    "    def get_x(self):\n",
    "        return self.__x\n",
    "    \n",
    "    def get_y(self):\n",
    "        return self.__y\n",
    "    \n",
    "    def get_coord(self):\n",
    "        return (self.__x, self.__y)\n",
    "    \n",
    "    def __str__(self):\n",
    "        msg = f\"({self.__x}, {self.__y})\"\n",
    "        return msg\n",
    "    \n",
    "    # 연산자 오버로딩\n",
    "    # ==\n",
    "    def __eq__(self, other):\n",
    "        return self.__x == other.__x and self.__y == other.__y\n",
    "    \n",
    "    def __add__(self, other):\n",
    "        # 같은 클래스이기 때문에 private임에도 접근 가능\n",
    "        new_x = self.__x + other.__x\n",
    "        new_y = self.__y + other.__y\n",
    "        temp_point = Point2D(new_x, new_y)\n",
    "        return temp_point\n",
    "    \n",
    "    def __sub__(self, other):\n",
    "        new_x = self.__x - other.__x\n",
    "        new_y = self.__y - other.__y\n",
    "        temp_point = Point2D(new_x, new_y)\n",
    "        return temp_point\n",
    "        # 구현\n",
    "    \n",
    "    # 원소간의 곱으로 구현할 것!!\n",
    "    def __mul__(self, other):\n",
    "        new_x = self.__x * other.__x\n",
    "        new_y = self.__y * other.__y\n",
    "        temp_point = Point2D(new_x, new_y)\n",
    "        return temp_point"
   ]
  },
  {
   "cell_type": "code",
   "execution_count": 14,
   "id": "2d717787",
   "metadata": {},
   "outputs": [
    {
     "name": "stdout",
     "output_type": "stream",
     "text": [
      "(0, 0)\n",
      "(2, 2)\n",
      "(-1, -1)\n",
      "True\n"
     ]
    }
   ],
   "source": [
    "pt1 = Point2D(1, 1)\n",
    "pt6 = Point2D(1, 1)\n",
    "\n",
    "pt2 = Point2D(-1, -1)\n",
    "pt3 = pt1 + pt2\n",
    "pt4 = pt1 - pt2\n",
    "pt5 = pt1 * pt2\n",
    "\n",
    "print(pt3)\n",
    "print(pt4)\n",
    "print(pt5)\n",
    "print(pt1 == pt6)"
   ]
  },
  {
   "cell_type": "code",
   "execution_count": 5,
   "id": "4a4d05cb",
   "metadata": {},
   "outputs": [
    {
     "name": "stdout",
     "output_type": "stream",
     "text": [
      "(0, 0)\n"
     ]
    }
   ],
   "source": [
    "print(pt3)\n",
    "print(pt3)"
   ]
  },
  {
   "cell_type": "markdown",
   "id": "d0113d0e",
   "metadata": {},
   "source": [
    "지난 시간에는 2차원 포인트, 3차원 포인트를 작성했는데 이번 주에는 N차원 포인트, 즉 벡터 클래스를 만들어 보겠습니다  "
   ]
  },
  {
   "cell_type": "code",
   "execution_count": 21,
   "id": "5961f56c",
   "metadata": {},
   "outputs": [
    {
     "name": "stdout",
     "output_type": "stream",
     "text": [
      "[1, 2, 3, 4]\n"
     ]
    }
   ],
   "source": [
    "class Vector:\n",
    "    # 생성자의 입력값은 여러개의 값이 담긴 리스트\n",
    "    # dtype은 벡터 내부의 원소의 타입\n",
    "    def __init__(self, number_list, dtype):\n",
    "        self.dtype = dtype\n",
    "        self.vector = []\n",
    "        # 조건문과 반복문을 활용해서 멤버변수를 할당할 것. \n",
    "        # 조건문에서는 입력받은 dtype과 리스트의 dtype이 같은지 검사하고\n",
    "        # 값이 다르면 에러메세지 출력 raise를 통해서 에러 발생시키기\n",
    "        # 반복문을 활용해서 self.vecotr에 원소를 하나씩 넣기\n",
    "        \n",
    "        for i, item in enumerate(number_list):\n",
    "            if type(item) != self.dtype:\n",
    "                print(f\"The item {i} isn't same dtype\")\n",
    "                raise ValueError\n",
    "            else:\n",
    "                self.vector.append(item)\n",
    "                \n",
    "    def push_back(self, item):\n",
    "        # 구현보세요~\n",
    "        # 입력받은 아이템의 데이터 타입이 현재 벡터의 데이터타입과 같은지 검사하고 같으면 리스트에 넣기\n",
    "        if type(item) != self.dtype:\n",
    "            print(f\"The item {i} isn't same dtype\")\n",
    "            raise ValueError\n",
    "        else:\n",
    "            self.vector.append(item)\n",
    "            \n",
    "    def pop_back(self):\n",
    "        return self.vector.pop(-1)\n",
    "    \n",
    "    # 연산자 오버로딩을 활용해서 +, -, 내적, 구현해보기입니다. \n",
    "    \n",
    "    def check_length(self):\n",
    "        pass\n",
    "    \n",
    "    def __add__(self, other):\n",
    "        pass\n",
    "    \n",
    "    def __sub__(self, other):\n",
    "        pass\n",
    "    \n",
    "    def __mul__(self, other):\n",
    "        pass\n",
    "            \n",
    "        \n",
    "vec1 = Vector([1, 2, 3], int)\n",
    "vec1.push_back(4)\n",
    "print(vec1.vector)\n",
    "vec2 = Vector([-1, -2, -3], int)\n"
   ]
  },
  {
   "cell_type": "code",
   "execution_count": null,
   "id": "22460feb",
   "metadata": {},
   "outputs": [],
   "source": []
  }
 ],
 "metadata": {
  "kernelspec": {
   "display_name": "Python 3 (ipykernel)",
   "language": "python",
   "name": "python3"
  },
  "language_info": {
   "codemirror_mode": {
    "name": "ipython",
    "version": 3
   },
   "file_extension": ".py",
   "mimetype": "text/x-python",
   "name": "python",
   "nbconvert_exporter": "python",
   "pygments_lexer": "ipython3",
   "version": "3.7.11"
  }
 },
 "nbformat": 4,
 "nbformat_minor": 5
}
