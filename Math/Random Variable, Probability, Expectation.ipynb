{
 "cells": [
  {
   "cell_type": "markdown",
   "id": "7dcfceb7",
   "metadata": {},
   "source": [
    "# 랜덤변수와 확률 이해하기"
   ]
  },
  {
   "cell_type": "code",
   "execution_count": 18,
   "id": "d39fb753",
   "metadata": {},
   "outputs": [],
   "source": [
    "import random"
   ]
  },
  {
   "cell_type": "code",
   "execution_count": 23,
   "id": "ee45a47b",
   "metadata": {},
   "outputs": [],
   "source": [
    "# 주사위 던지기를 시행\n",
    "throwing_number = 1000000\n",
    "\n",
    "# 주사위 던지기 시행의 결과를 random_dice라는 리스트에 저장. \n",
    "random_dice = [random.randint(1, 6) for i in range(throwing_number)]"
   ]
  },
  {
   "cell_type": "code",
   "execution_count": 25,
   "id": "24b2f207",
   "metadata": {},
   "outputs": [
    {
     "data": {
      "text/plain": [
       "{1: 0, 2: 0, 3: 0, 4: 0, 5: 0, 6: 0}"
      ]
     },
     "execution_count": 25,
     "metadata": {},
     "output_type": "execute_result"
    }
   ],
   "source": [
    "# 주사위 던지기 사건에 대한 랜덤변수 생성\n",
    "random_var_dict = {i:0 for i in range(1, 7)}\n",
    "random_var_dict"
   ]
  },
  {
   "cell_type": "code",
   "execution_count": 26,
   "id": "afe77ebb",
   "metadata": {},
   "outputs": [
    {
     "name": "stdout",
     "output_type": "stream",
     "text": [
      "{1: 0.166424, 2: 0.166728, 3: 0.167151, 4: 0.166713, 5: 0.166455, 6: 0.166529}\n"
     ]
    }
   ],
   "source": [
    "# 주사위의 랜덤변수에 대한 확률 생성\n",
    "for key in random_var_dict:\n",
    "    random_var_dict[key] = random_dice.count(key) / throwing_number\n",
    "\n",
    "print(random_var_dict)"
   ]
  },
  {
   "cell_type": "code",
   "execution_count": 10,
   "id": "93fbb54a",
   "metadata": {},
   "outputs": [
    {
     "name": "stdout",
     "output_type": "stream",
     "text": [
      "{1: 0.010101010101010102, 2: 0.2, 3: 0.010101010101010102, 4: 0.010101010101010102, 5: 0.010101010101010102, 6: 0.1}\n"
     ]
    }
   ],
   "source": [
    "# 주사위의 랜덤변수에 대한 확률을 할당\n",
    "# random_var_dict의 item에 들어가는 확률을 계산하고 할당.\n",
    "# Hint : 반복문 사용, 리스트 객체는 .count(elem)을 통해 element가 몇 개 있는지 셀 수 있다. \n",
    "\n",
    "# 지현님\n",
    "# random_var_dict = {i:random_dice.count(i)/throwing_number for i in range(1,7)}\n",
    "# print(random_var_dict)\n",
    "\n",
    "# 태균님\n",
    "for i in random_dice:\n",
    "    random_var_dict[random_dice[i]] += 1\n",
    "    random_var_dict[random_dice[i]] /= throwing_number\n",
    "print(random_var_dict)"
   ]
  },
  {
   "cell_type": "code",
   "execution_count": 15,
   "id": "81ac4aae",
   "metadata": {},
   "outputs": [
    {
     "name": "stdout",
     "output_type": "stream",
     "text": [
      "[0.25, 0.2, 0.17, 0.16, 0.12, 0.1]\n"
     ]
    }
   ],
   "source": [
    "# 준영님\n",
    "each = []\n",
    "for i in range(6):\n",
    "    nums = random_dice.count(i+1) \n",
    "    prob = nums / throwing_number \n",
    "    each.append(prob)     \n",
    "\n",
    "print(each)\n",
    "\n"
   ]
  },
  {
   "cell_type": "code",
   "execution_count": 16,
   "id": "696c931d",
   "metadata": {},
   "outputs": [
    {
     "name": "stdout",
     "output_type": "stream",
     "text": [
      "{1: 0.25, 2: 0.2, 3: 0.17, 4: 0.16, 5: 0.12, 6: 0.1}\n"
     ]
    }
   ],
   "source": [
    "# 동현님\n",
    "random_var_dict = {i:random_dice.count(i)/throwing_number for i in range(1,7)}\n",
    "print(random_var_dict)"
   ]
  },
  {
   "cell_type": "code",
   "execution_count": 27,
   "id": "f3eb68a6",
   "metadata": {},
   "outputs": [
    {
     "name": "stderr",
     "output_type": "stream",
     "text": [
      "No handles with labels found to put in legend.\n"
     ]
    },
    {
     "data": {
      "image/png": "[encoded data removed]",
      "text/plain": [
       "<Figure size 432x288 with 1 Axes>"
      ]
     },
     "metadata": {
      "needs_background": "light"
     },
     "output_type": "display_data"
    }
   ],
   "source": [
    "import matplotlib.pyplot as plt\n",
    "\n",
    "x = random_var_dict.keys()\n",
    "p = random_var_dict.values()\n",
    "plt.plot(x, p)\n",
    "plt.legend()\n",
    "plt.show()"
   ]
  },
  {
   "cell_type": "markdown",
   "id": "46a30c4e",
   "metadata": {},
   "source": [
    "# 기댓값(평균)\n"
   ]
  },
  {
   "cell_type": "code",
   "execution_count": null,
   "id": "0f22e831",
   "metadata": {},
   "outputs": [],
   "source": [
    "# Hint : 기존의 random_var딕셔너리 사용\n",
    "# 주사위 랜덤변수에 대한 기댓값을 계산합니다. \n"
   ]
  },
  {
   "cell_type": "code",
   "execution_count": 36,
   "id": "6e1367d4",
   "metadata": {},
   "outputs": [
    {
     "name": "stdout",
     "output_type": "stream",
     "text": [
      "3.499634\n"
     ]
    }
   ],
   "source": [
    "# 준영\n",
    "exp = 0\n",
    "for key, value in random_var_dict.items():\n",
    "    exp += key*value\n",
    "print(exp)"
   ]
  },
  {
   "cell_type": "code",
   "execution_count": 32,
   "id": "d5828770",
   "metadata": {},
   "outputs": [
    {
     "name": "stdout",
     "output_type": "stream",
     "text": [
      "3.499634\n"
     ]
    }
   ],
   "source": [
    "# 지현\n",
    "expectation = 0\n",
    "for key, value in random_var_dict.items():\n",
    "    expectation += key * value\n",
    "print(expectation)"
   ]
  },
  {
   "cell_type": "code",
   "execution_count": 35,
   "id": "f3d3fc8a",
   "metadata": {
    "scrolled": true
   },
   "outputs": [
    {
     "name": "stdout",
     "output_type": "stream",
     "text": [
      "3.499634\n"
     ]
    }
   ],
   "source": [
    "# 태균\n",
    "expectation = 0 \n",
    "for i, j in enumerate(random_var_dict.values()):\n",
    "    expectation += (i+1) * j\n",
    "print(expectation)    \n"
   ]
  },
  {
   "cell_type": "markdown",
   "id": "4d7160d7",
   "metadata": {},
   "source": [
    "# 분산 구하기"
   ]
  },
  {
   "cell_type": "code",
   "execution_count": null,
   "id": "bb7ad38a",
   "metadata": {},
   "outputs": [],
   "source": [
    "var = 0\n",
    "# hint : 계산한 expectation 값을 활용해야합니다. \n"
   ]
  },
  {
   "cell_type": "code",
   "execution_count": 37,
   "id": "b44f5d3e",
   "metadata": {},
   "outputs": [
    {
     "name": "stdout",
     "output_type": "stream",
     "text": [
      "2.9166666666666665\n"
     ]
    }
   ],
   "source": [
    "x = [1, 2, 3, 4, 5, 6]\n",
    "p = [1/6, 1/6, 1/6, 1/6, 1/6, 1/6]\n",
    "mean = 3.5\n",
    "var = 0\n",
    "for x_i, p_i in zip(x, p):\n",
    "    var += (x_i - mean)**2 * p_i \n",
    "print(var)"
   ]
  },
  {
   "cell_type": "code",
   "execution_count": 42,
   "id": "3f03dfa4",
   "metadata": {},
   "outputs": [
    {
     "data": {
      "text/plain": [
       "2.914083866044"
      ]
     },
     "execution_count": 42,
     "metadata": {},
     "output_type": "execute_result"
    }
   ],
   "source": [
    "# 동현\n",
    "variance = 0 \n",
    "for key, value in random_var_dict.items(): \n",
    "    variance += ((key-expectation)**2) * value\n",
    "    #variance = variance_sum/(throwing_number-1)\n",
    "\n",
    "variance"
   ]
  },
  {
   "cell_type": "code",
   "execution_count": 39,
   "id": "caf7efdc",
   "metadata": {},
   "outputs": [
    {
     "name": "stdout",
     "output_type": "stream",
     "text": [
      "2.914083866044\n"
     ]
    }
   ],
   "source": [
    "# 국진\n",
    "var = 0\n",
    "for x, p in zip(random_var_dict.keys(), random_var_dict.values()):\n",
    "    var += (x-expectation)**2 * p\n",
    "print(var)"
   ]
  },
  {
   "cell_type": "code",
   "execution_count": 43,
   "id": "57f21618",
   "metadata": {},
   "outputs": [
    {
     "name": "stdout",
     "output_type": "stream",
     "text": [
      "2.9140838660440007\n"
     ]
    }
   ],
   "source": [
    "exp = 0\n",
    "exp_square = 0\n",
    "for key, value in random_var_dict.items():\n",
    "    exp += key*value\n",
    "    exp_square += (key**2)*value\n",
    "    \n",
    "var = exp_square - exp**2\n",
    "print(var)"
   ]
  },
  {
   "cell_type": "code",
   "execution_count": null,
   "id": "3b1054e3",
   "metadata": {},
   "outputs": [],
   "source": []
  }
 ],
 "metadata": {
  "kernelspec": {
   "display_name": "Python 3 (ipykernel)",
   "language": "python",
   "name": "python3"
  },
  "language_info": {
   "codemirror_mode": {
    "name": "ipython",
    "version": 3
   },
   "file_extension": ".py",
   "mimetype": "text/x-python",
   "name": "python",
   "nbconvert_exporter": "python",
   "pygments_lexer": "ipython3",
   "version": "3.7.11"
  }
 },
 "nbformat": 4,
 "nbformat_minor": 5
}
