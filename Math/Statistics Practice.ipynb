{
 "cells": [
  {
   "cell_type": "markdown",
   "id": "8e392de8",
   "metadata": {},
   "source": [
    "# 랜덤변수와 확률 이해하기"
   ]
  },
  {
   "cell_type": "code",
   "execution_count": 22,
   "id": "ada01aa0",
   "metadata": {},
   "outputs": [],
   "source": [
    "import random"
   ]
  },
  {
   "cell_type": "code",
   "execution_count": 43,
   "id": "a6a2c8ab",
   "metadata": {},
   "outputs": [],
   "source": [
    "# 주사위 던지기를 시행\n",
    "throwing_number = 100000\n",
    "random_dice = [random.randint(1, 6) for i in range(throwing_number)]"
   ]
  },
  {
   "cell_type": "code",
   "execution_count": 44,
   "id": "176096b1",
   "metadata": {},
   "outputs": [
    {
     "data": {
      "text/plain": [
       "{1: 0, 2: 0, 3: 0, 4: 0, 5: 0, 6: 0}"
      ]
     },
     "execution_count": 44,
     "metadata": {},
     "output_type": "execute_result"
    }
   ],
   "source": [
    "# 주사위 던지기 사건의 랜덤변수 생성\n",
    "dice_prob_dict = {i:0 for i in range(1, 7)}\n",
    "dice_prob_dict"
   ]
  },
  {
   "cell_type": "code",
   "execution_count": 45,
   "id": "8f55c1f4",
   "metadata": {},
   "outputs": [],
   "source": [
    "# 주사위의 랜덤변수에 대한 확률 생성\n",
    "for key in dice_prob_dict:\n",
    "    dice_prob_dict[key] = random_dice.count(key) / throwing_number\n",
    "    "
   ]
  },
  {
   "cell_type": "code",
   "execution_count": 46,
   "id": "d54026c6",
   "metadata": {},
   "outputs": [
    {
     "data": {
      "text/plain": [
       "{1: 0.16629, 2: 0.16675, 3: 0.16675, 4: 0.16813, 5: 0.16583, 6: 0.16625}"
      ]
     },
     "execution_count": 46,
     "metadata": {},
     "output_type": "execute_result"
    }
   ],
   "source": [
    "dice_prob_dict"
   ]
  },
  {
   "cell_type": "code",
   "execution_count": 48,
   "id": "facc4fa0",
   "metadata": {},
   "outputs": [
    {
     "name": "stdout",
     "output_type": "stream",
     "text": [
      "3.49921\n"
     ]
    }
   ],
   "source": [
    "expectation = 0\n",
    "for x, p in zip(dice_prob_dict.keys(), dice_prob_dict.values()):\n",
    "    expectation += x * p\n",
    "print(expectation)\n",
    "    "
   ]
  },
  {
   "cell_type": "code",
   "execution_count": null,
   "id": "cbc2ffb8",
   "metadata": {},
   "outputs": [],
   "source": [
    "var = 0\n",
    "for x, p in zip(random_var_dict.keys(), random_var_dict.values()):\n",
    "    var += (x-expectation)**2 * p\n",
    "print(var)"
   ]
  },
  {
   "cell_type": "code",
   "execution_count": 50,
   "id": "fea08ff3",
   "metadata": {},
   "outputs": [
    {
     "name": "stdout",
     "output_type": "stream",
     "text": [
      "2.9166666666666665\n"
     ]
    }
   ],
   "source": [
    "x = [1, 2, 3, 4, 5, 6]\n",
    "p = [1/6, 1/6, 1/6, 1/6, 1/6, 1/6]\n",
    "mean = 3.5\n",
    "var = 0\n",
    "for x_i, p_i in zip(x, p):\n",
    "    var += (x_i - mean)**2 * p_i \n",
    "print(var)"
   ]
  },
  {
   "cell_type": "code",
   "execution_count": 47,
   "id": "5289c7ea",
   "metadata": {},
   "outputs": [
    {
     "name": "stderr",
     "output_type": "stream",
     "text": [
      "No handles with labels found to put in legend.\n"
     ]
    },
    {
     "data": {
      "image/png": "[encoded data removed]",
      "text/plain": [
       "<Figure size 432x288 with 1 Axes>"
      ]
     },
     "metadata": {
      "needs_background": "light"
     },
     "output_type": "display_data"
    }
   ],
   "source": [
    "import matplotlib.pyplot as plt\n",
    "\n",
    "x = dice_prob_dict.keys()\n",
    "p = dice_prob_dict.values()\n",
    "plt.plot(x, p)\n",
    "plt.xlabel('x')\n",
    "plt.ylabel('p')\n",
    "plt.legend()\n",
    "plt.show()"
   ]
  },
  {
   "cell_type": "code",
   "execution_count": null,
   "id": "bc67bf13",
   "metadata": {},
   "outputs": [],
   "source": []
  }
 ],
 "metadata": {
  "kernelspec": {
   "display_name": "Python 3 (ipykernel)",
   "language": "python",
   "name": "python3"
  },
  "language_info": {
   "codemirror_mode": {
    "name": "ipython",
    "version": 3
   },
   "file_extension": ".py",
   "mimetype": "text/x-python",
   "name": "python",
   "nbconvert_exporter": "python",
   "pygments_lexer": "ipython3",
   "version": "3.7.11"
  }
 },
 "nbformat": 4,
 "nbformat_minor": 5
}
