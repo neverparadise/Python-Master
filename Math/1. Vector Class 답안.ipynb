{
 "cells": [
  {
   "cell_type": "code",
   "execution_count": 61,
   "id": "b45576b7",
   "metadata": {},
   "outputs": [],
   "source": [
    "from copy import deepcopy"
   ]
  },
  {
   "cell_type": "code",
   "execution_count": 147,
   "id": "67e60fa3",
   "metadata": {},
   "outputs": [],
   "source": [
    "class Vector:\n",
    "    # 생성자의 입력값은 벡터 리스트\n",
    "    def __init__(self, vec_list, dtype):\n",
    "        self.dtype = dtype\n",
    "        self.vector = []\n",
    "        for i, item in enumerate(vec_list):\n",
    "            if type(item) != dtype:\n",
    "                print(f\"The item {i} isn't same data type...\")\n",
    "                raise ValueError\n",
    "      \n",
    "            else:\n",
    "                self.vector.append(item)\n",
    "    \n",
    "    def push(self, item):\n",
    "        if self.dtype != type(item):\n",
    "            print(f\"Input item isn't same data type...\")\n",
    "            raise ValueError\n",
    "            \n",
    "        else:\n",
    "            self.vector.append(item)\n",
    "    \n",
    "    def pop(self):\n",
    "        return self.vector.pop(-1)\n",
    "    \n",
    "    def check_dimension(self, other):\n",
    "        if len(self.vector) != len(other.vector):\n",
    "            print(f\"The dimension of two vectors are not same\")\n",
    "            return False\n",
    "        else:\n",
    "            return True\n",
    "    \n",
    "    # 연산자 오버로딩\n",
    "    def __add__(self, other):\n",
    "        new_vector = []\n",
    "        if self.check_dimension(other):\n",
    "            for elem1, elem2 in zip(self.vector, other.vector):\n",
    "                new_elem = elem1 + elem2\n",
    "                new_vector.append(new_elem)\n",
    "        else:\n",
    "            raise ValueError\n",
    "        new_vec = Vector(new_vector, self.dtype)\n",
    "        return new_vec\n",
    "    \n",
    "    def __sub__(self, other):\n",
    "        new_vector = []\n",
    "        if self.check_dimension(other):\n",
    "            for elem1, elem2 in zip(self.vector, other.vector):\n",
    "                new_elem = elem1 - elem2\n",
    "                new_vector.append(new_elem)\n",
    "        else:\n",
    "            raise ValueError\n",
    "        new_vec = Vector(new_vector, self.dtype)\n",
    "        return new_vec\n",
    "    \n",
    "    def __mul__(self, other):\n",
    "        dot_product = 0\n",
    "        if self.check_dimension(other):\n",
    "            for elem1, elem2 in zip(self.vector, other.vector):\n",
    "                dot_product += elem1 * elem2\n",
    "            return dot_product\n",
    "        else:\n",
    "            raise ValueError\n",
    "            \n",
    "    def __call__(self):\n",
    "        return self.vector\n",
    "    \n",
    "    def __str__(self):\n",
    "        msg = f\"{self.vector}\"\n",
    "        return msg"
   ]
  },
  {
   "cell_type": "code",
   "execution_count": 148,
   "id": "c4432381",
   "metadata": {},
   "outputs": [],
   "source": [
    "vec1 = Vector([1, 2, 3], int)\n",
    "vec2 = Vector([-1, -2, -3], int)"
   ]
  },
  {
   "cell_type": "code",
   "execution_count": 149,
   "id": "1d4dcf8e",
   "metadata": {
    "scrolled": true
   },
   "outputs": [
    {
     "name": "stdout",
     "output_type": "stream",
     "text": [
      "[0, 0, 0]\n"
     ]
    }
   ],
   "source": [
    "vec3 = vec1 + vec2\n",
    "print(vec3)"
   ]
  },
  {
   "cell_type": "code",
   "execution_count": 150,
   "id": "ecc79910",
   "metadata": {},
   "outputs": [],
   "source": [
    "vec1.push(4)\n",
    "vec2.push(-4)"
   ]
  },
  {
   "cell_type": "code",
   "execution_count": 151,
   "id": "f84c50fa",
   "metadata": {},
   "outputs": [
    {
     "name": "stdout",
     "output_type": "stream",
     "text": [
      "[1, 2, 3, 4]\n",
      "[-1, -2, -3, -4]\n",
      "[0, 0, 0]\n"
     ]
    }
   ],
   "source": [
    "print(vec1)\n",
    "print(vec2)\n",
    "print(vec3)"
   ]
  },
  {
   "cell_type": "code",
   "execution_count": 152,
   "id": "82f1c974",
   "metadata": {},
   "outputs": [
    {
     "name": "stdout",
     "output_type": "stream",
     "text": [
      "-30\n"
     ]
    }
   ],
   "source": [
    "output = vec1 * vec2\n",
    "print(output)"
   ]
  },
  {
   "cell_type": "code",
   "execution_count": null,
   "id": "786fc19a",
   "metadata": {},
   "outputs": [],
   "source": []
  }
 ],
 "metadata": {
  "kernelspec": {
   "display_name": "Python 3 (ipykernel)",
   "language": "python",
   "name": "python3"
  },
  "language_info": {
   "codemirror_mode": {
    "name": "ipython",
    "version": 3
   },
   "file_extension": ".py",
   "mimetype": "text/x-python",
   "name": "python",
   "nbconvert_exporter": "python",
   "pygments_lexer": "ipython3",
   "version": "3.7.11"
  }
 },
 "nbformat": 4,
 "nbformat_minor": 5
}
