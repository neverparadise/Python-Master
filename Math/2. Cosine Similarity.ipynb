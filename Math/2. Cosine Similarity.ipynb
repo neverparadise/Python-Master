{
 "cells": [
  {
   "cell_type": "code",
   "execution_count": null,
   "id": "bcef7d74",
   "metadata": {},
   "outputs": [],
   "source": [
    "class Vector:\n",
    "    # 생성자의 입력값은 벡터 리스트\n",
    "    def __init__(self, vec_list, dtype):\n",
    "        self.dtype = dtype\n",
    "        self.vector = []\n",
    "        for i, item in enumerate(vec_list):\n",
    "            if type(item) != dtype:\n",
    "                print(f\"The item {i} isn't same data type...\")\n",
    "                raise ValueError\n",
    "      \n",
    "            else:\n",
    "                self.vector.append(item)\n",
    "    \n",
    "    def push(self, item):\n",
    "        if self.dtype != type(item):\n",
    "            print(f\"Input item isn't same data type...\")\n",
    "        else:\n",
    "            self.vector.append(item)\n",
    "    \n",
    "    def pop(self):\n",
    "        return self.vector.pop(-1)\n",
    "    \n",
    "    def check_dimension(self, other):\n",
    "        if len(self.vector) != len(other.vector):\n",
    "            print(f\"The dimension of two vectors are not same\")\n",
    "            return False\n",
    "        else:\n",
    "            return True\n",
    "    \n",
    "    # 연산자 오버로딩\n",
    "    def __add__(self, other):\n",
    "        new_vector = []\n",
    "        if self.check_dimension(other):\n",
    "            for elem1, elem2 in zip(self.vector, other.vector):\n",
    "                new_elem = elem1 + elem2\n",
    "                new_vector.append(new_elem)\n",
    "        else:\n",
    "            raise ValueError\n",
    "        new_vec = Vector(new_vector, self.dtype)\n",
    "        return new_vec\n",
    "    \n",
    "    def __sub__(self, other):\n",
    "        new_vector = []\n",
    "        if self.check_dimension(other):\n",
    "            for elem1, elem2 in zip(self.vector, other.vector):\n",
    "                new_elem = elem1 - elem2\n",
    "                new_vector.append(new_elem)\n",
    "        else:\n",
    "            raise ValueError\n",
    "        new_vec = Vector(new_vector, self.dtype)\n",
    "        return new_vec\n",
    "    \n",
    "    def __mul__(self, other):\n",
    "        dot_product = 0\n",
    "        if self.check_dimension(other):\n",
    "            for elem1, elem2 in zip(self.vector, other.vector):\n",
    "                dot_product += elem1 * elem2\n",
    "            return dot_product\n",
    "        else:\n",
    "            raise ValueError\n",
    "    \n",
    "    def __call__(self):\n",
    "        return self.vector\n",
    "    \n",
    "    def __str__(self):\n",
    "        msg = f\"{self.vector}\"\n",
    "        return msg"
   ]
  },
  {
   "cell_type": "code",
   "execution_count": 3,
   "id": "c5dcc21f",
   "metadata": {},
   "outputs": [],
   "source": [
    "# 모듈화 : 이미 작성된 코드를 재활용한다. \n",
    "from Vector import *"
   ]
  },
  {
   "cell_type": "code",
   "execution_count": 5,
   "id": "0cc438f9",
   "metadata": {},
   "outputs": [],
   "source": [
    "vec1 = Vector([1, 1, 1], int)\n",
    "vec2 = Vector([-1, -1, -1], int)"
   ]
  },
  {
   "cell_type": "code",
   "execution_count": 6,
   "id": "61999052",
   "metadata": {},
   "outputs": [
    {
     "data": {
      "text/plain": [
       "[1, 1, 1]"
      ]
     },
     "execution_count": 6,
     "metadata": {},
     "output_type": "execute_result"
    }
   ],
   "source": [
    "vec1()"
   ]
  },
  {
   "cell_type": "code",
   "execution_count": 9,
   "id": "e0b90fff",
   "metadata": {},
   "outputs": [],
   "source": [
    "import math\n",
    "\n",
    "# Hint : Vector 인스턴스를 () 괄호를 붙여서 호출하면\n",
    "# 바로 self.vector를 호출할 수 있습니다. \n",
    "# cos_theta 값을 구함. \n",
    "\n",
    "\n",
    "def similarity(v1, v2):\n",
    "    # 구현 : 내적값을 활용.\n",
    "    dot_product = v1 * v2\n",
    "    abs1, abs2 = 0.0, 0.0\n",
    "    for elem1, elem2 in zip(v1(), v2()):\n",
    "        abs1 += elem1 ** 2\n",
    "        abs2 += elem2 ** 2\n",
    "    abs1, abs2 = math.sqrt(abs1), math.sqrt(abs2)\n",
    "    similarity = dot_product / abs1 / abs2\n",
    "    \n",
    "    return similarity"
   ]
  },
  {
   "cell_type": "code",
   "execution_count": 10,
   "id": "1be5225a",
   "metadata": {},
   "outputs": [
    {
     "name": "stdout",
     "output_type": "stream",
     "text": [
      "-1.0000000000000002\n"
     ]
    }
   ],
   "source": [
    "print(similarity(vec1, vec2))"
   ]
  },
  {
   "cell_type": "code",
   "execution_count": null,
   "id": "c8ca824a",
   "metadata": {},
   "outputs": [],
   "source": [
    "# 수연님 코드\n",
    "\n",
    "def similarity(v1, v2):\n",
    "    dot = v1 * v2\n",
    "    v1_l = (v1 * v1) ** 0.5 \n",
    "    v2_l = (v2 * v2) ** 0.5 \n",
    "    return dot/(v1_l * v2_l)\n",
    "\n",
    "def len (vec):\n",
    "    size = 0 \n",
    "    vec.vector for x in vec.vector:"
   ]
  }
 ],
 "metadata": {
  "kernelspec": {
   "display_name": "Python 3 (ipykernel)",
   "language": "python",
   "name": "python3"
  },
  "language_info": {
   "codemirror_mode": {
    "name": "ipython",
    "version": 3
   },
   "file_extension": ".py",
   "mimetype": "text/x-python",
   "name": "python",
   "nbconvert_exporter": "python",
   "pygments_lexer": "ipython3",
   "version": "3.7.11"
  }
 },
 "nbformat": 4,
 "nbformat_minor": 5
}
