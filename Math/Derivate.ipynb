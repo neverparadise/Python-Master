{
 "cells": [
  {
   "cell_type": "code",
   "execution_count": 12,
   "id": "686cf1a3",
   "metadata": {},
   "outputs": [],
   "source": [
    "def f_x(x):\n",
    "    return x ** 2\n",
    "def derivate(f_x, x):\n",
    "    dx = 0.000001\n",
    "    f_prime = (f_x(x + dx) - f_x(x)) / dx\n",
    "    return f_prime"
   ]
  },
  {
   "cell_type": "code",
   "execution_count": 17,
   "id": "89228c81",
   "metadata": {},
   "outputs": [
    {
     "data": {
      "text/plain": [
       "10.00000082740371"
      ]
     },
     "execution_count": 17,
     "metadata": {},
     "output_type": "execute_result"
    }
   ],
   "source": [
    "derivate(f_x, 5)"
   ]
  },
  {
   "cell_type": "code",
   "execution_count": null,
   "id": "3a2df3a3",
   "metadata": {},
   "outputs": [],
   "source": []
  }
 ],
 "metadata": {
  "kernelspec": {
   "display_name": "Python 3 (ipykernel)",
   "language": "python",
   "name": "python3"
  },
  "language_info": {
   "codemirror_mode": {
    "name": "ipython",
    "version": 3
   },
   "file_extension": ".py",
   "mimetype": "text/x-python",
   "name": "python",
   "nbconvert_exporter": "python",
   "pygments_lexer": "ipython3",
   "version": "3.7.11"
  }
 },
 "nbformat": 4,
 "nbformat_minor": 5
}
