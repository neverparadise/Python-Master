{
 "cells": [
  {
   "cell_type": "code",
   "execution_count": 1,
   "id": "f2942db7",
   "metadata": {},
   "outputs": [],
   "source": [
    "from Vector import Vector"
   ]
  },
  {
   "cell_type": "code",
   "execution_count": 31,
   "id": "dccb7e76",
   "metadata": {},
   "outputs": [],
   "source": [
    "# 선형변환 : 벡터공간에서 벡터공간으로 사상하는 함수. \n",
    "# 벡터 공간의 성질을 보존한다. \n",
    "\n",
    "import math\n",
    "Pi = math.pi\n",
    "\n",
    "class Transform2D:\n",
    "    # Rotation\n",
    "    def rotation(self, angle, vector):\n",
    "        rot_matrix = [[math.cos(angle), -math.sin(angle)],\n",
    "                      [math.sin(angle), math.cos(angle)]]\n",
    "        output = Vector([], vector.dtype)\n",
    "        for i, row in enumerate(rot_matrix):\n",
    "            rowcol_sum = 0\n",
    "            for j, col in enumerate(row):\n",
    "                rowcol_sum += rot_matrix[i][j] * vector()[j]\n",
    "            output.push((rowcol_sum))\n",
    "        \n",
    "        return output\n",
    "    \n",
    "    # Scaling\n",
    "    def scaling(self, scale, vector):\n",
    "        scale_matrix = [[scale, 0],\n",
    "                        [0, scale]]\n",
    "        output = Vector([], vector.dtype)\n",
    "        for i, row in enumerate(scale_matrix):\n",
    "            rowcol_sum = 0\n",
    "            for j, col in enumerate(row):\n",
    "                rowcol_sum += scale_matrix[i][j] * vector()[j]\n",
    "            output.push((rowcol_sum))\n",
    "        \n",
    "        return output\n",
    "\n",
    "    # Arbitrary\n",
    "    def arbitrary(self, matrix, vector):\n",
    "        arb_matrix = matrix\n",
    "        output = Vector([], vector.dtype)\n",
    "        for i, row in enumerate(arb_matrix):\n",
    "            rowcol_sum = 0\n",
    "            for j, col in enumerate(row):\n",
    "                rowcol_sum += arb_matrix[i][j] * vector()[j]\n",
    "            output.push((rowcol_sum))\n",
    "        \n",
    "        return output\n",
    "    \n",
    "    \n",
    "    "
   ]
  },
  {
   "cell_type": "code",
   "execution_count": 35,
   "id": "b9ff67f0",
   "metadata": {},
   "outputs": [
    {
     "name": "stdout",
     "output_type": "stream",
     "text": [
      "[6.123233995736766e-17, 1.0]\n",
      "[2.0, 0.0]\n",
      "[2.0, 0.0]\n"
     ]
    }
   ],
   "source": [
    "vec = Vector([1.0, 0.0], float)\n",
    "transform = Transform2D()\n",
    "rot_vec = transform.rotation(Pi/2, vec)\n",
    "scale_vec = transform.scaling(2, vec)\n",
    "\n",
    "arb_mat = [[2,0], [0, 2]]\n",
    "arb_matrix = transform.arbitrary(arb_mat, vec)\n",
    "\n",
    "print(rot_vec)\n",
    "print(scale_vec)\n",
    "print(arb_matrix)"
   ]
  },
  {
   "cell_type": "code",
   "execution_count": null,
   "id": "92bb1470",
   "metadata": {},
   "outputs": [],
   "source": []
  }
 ],
 "metadata": {
  "kernelspec": {
   "display_name": "Python 3 (ipykernel)",
   "language": "python",
   "name": "python3"
  },
  "language_info": {
   "codemirror_mode": {
    "name": "ipython",
    "version": 3
   },
   "file_extension": ".py",
   "mimetype": "text/x-python",
   "name": "python",
   "nbconvert_exporter": "python",
   "pygments_lexer": "ipython3",
   "version": "3.7.11"
  }
 },
 "nbformat": 4,
 "nbformat_minor": 5
}
