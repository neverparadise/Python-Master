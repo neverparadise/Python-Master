{
 "cells": [
  {
   "cell_type": "code",
   "execution_count": 6,
   "id": "285aabd3",
   "metadata": {},
   "outputs": [],
   "source": [
    "# 제너레이터 : 이터레이터를 생성해주는 함수\n",
    "# iterable(이터러블) : 리스트, 튜플, 딕셔너리 같은 여러 개의 원소들을 가지는 컨테이너 객체\n",
    "# 이터레이터 : 이터러블에서 원소를 하.나.씩 꺼내오는 객체\n",
    "# 프로그래밍을 할 때는 극단적으로 생각하는게 중요합니다. \n",
    "\n",
    "def square(num_list):\n",
    "    new_list = []\n",
    "    for item in num_list:\n",
    "        new_list.append(item * item)\n",
    "    return new_list"
   ]
  },
  {
   "cell_type": "code",
   "execution_count": 9,
   "id": "ce3f8047",
   "metadata": {},
   "outputs": [
    {
     "name": "stdout",
     "output_type": "stream",
     "text": [
      "0\n",
      "1\n",
      "4\n",
      "9\n",
      "16\n",
      "25\n",
      "36\n",
      "49\n",
      "64\n",
      "81\n"
     ]
    }
   ],
   "source": [
    "# 만약 num_list의 개수가 1억개라고 한다면 \n",
    "# 아래 코드를 실행하면 2억개의 원소가 메모리에 저장된다. \n",
    "num_list = [i for i in range(10)]\n",
    "new_list = square(num_list)\n",
    "for item in new_list:\n",
    "    print(item)"
   ]
  },
  {
   "cell_type": "code",
   "execution_count": 17,
   "id": "286dd183",
   "metadata": {},
   "outputs": [
    {
     "name": "stdout",
     "output_type": "stream",
     "text": [
      "0\n",
      "1\n",
      "\n",
      "\n",
      "2\n",
      "3\n",
      "4\n",
      "5\n",
      "6\n",
      "7\n",
      "8\n",
      "9\n"
     ]
    },
    {
     "ename": "StopIteration",
     "evalue": "",
     "output_type": "error",
     "traceback": [
      "\u001b[1;31m---------------------------------------------------------------------------\u001b[0m",
      "\u001b[1;31mStopIteration\u001b[0m                             Traceback (most recent call last)",
      "\u001b[1;32m~\\AppData\\Local\\Temp/ipykernel_42000/1496902721.py\u001b[0m in \u001b[0;36m<module>\u001b[1;34m\u001b[0m\n\u001b[0;32m     19\u001b[0m \u001b[1;31m# next()를 한 번 더 호출하면 에러가 발생하는 것을 볼 수 있습니다.\u001b[0m\u001b[1;33m\u001b[0m\u001b[1;33m\u001b[0m\u001b[1;33m\u001b[0m\u001b[0m\n\u001b[0;32m     20\u001b[0m \u001b[1;33m\u001b[0m\u001b[0m\n\u001b[1;32m---> 21\u001b[1;33m \u001b[0mnext\u001b[0m\u001b[1;33m(\u001b[0m\u001b[0mnum_iterator\u001b[0m\u001b[1;33m)\u001b[0m\u001b[1;33m\u001b[0m\u001b[1;33m\u001b[0m\u001b[0m\n\u001b[0m",
      "\u001b[1;31mStopIteration\u001b[0m: "
     ]
    }
   ],
   "source": [
    "# iterable : 리스트, 튜플, 딕셔너리 등등\n",
    "# iterator : iterable 객체에서 next를 통해 값을 하나씩 접근하게 해주는 객체\n",
    "\n",
    "# iter() : 이터러블 객체를 이터레이터로 만들어준다. \n",
    "num_list = [i for i in range(10)]\n",
    "num_iterator = iter(num_list)\n",
    "\n",
    "print(next(num_iterator))\n",
    "print(next(num_iterator))\n",
    "\n",
    "print()\n",
    "print()\n",
    "\n",
    "for item in num_iterator:\n",
    "    print(item)\n",
    "\n",
    "# 이터레이터는 내부 원소들을 하나씩 소모를 합니다. \n",
    "# 즉, 하나씩 메모리에서 비우게 됩니다. \n",
    "# next()를 한 번 더 호출하면 StopIteration 에러가 발생하는 것을 볼 수 있습니다.\n",
    "\n",
    "next(num_iterator)"
   ]
  },
  {
   "cell_type": "code",
   "execution_count": 14,
   "id": "86a9a029",
   "metadata": {},
   "outputs": [],
   "source": [
    "# 제너레이터 : 이터레이터를 생성해주는 함수\n",
    "def generate_sqaure(num_list):\n",
    "    for item in num_list:\n",
    "        yield item * item"
   ]
  },
  {
   "cell_type": "code",
   "execution_count": 16,
   "id": "6f523576",
   "metadata": {},
   "outputs": [
    {
     "name": "stdout",
     "output_type": "stream",
     "text": [
      "0\n",
      "1\n",
      "\n",
      "\n",
      "4\n",
      "9\n",
      "16\n",
      "25\n",
      "36\n",
      "49\n",
      "64\n",
      "81\n"
     ]
    }
   ],
   "source": [
    "num_list = [i for i in range(10)]\n",
    "num_iterator = generate_sqaure(num_list)\n",
    "print(next(num_iterator))\n",
    "print(next(num_iterator))\n",
    "\n",
    "print()\n",
    "print()\n",
    "\n",
    "for item in num_iterator:\n",
    "    print(item)"
   ]
  },
  {
   "cell_type": "code",
   "execution_count": null,
   "id": "00063e68",
   "metadata": {},
   "outputs": [],
   "source": []
  }
 ],
 "metadata": {
  "kernelspec": {
   "display_name": "Python 3 (ipykernel)",
   "language": "python",
   "name": "python3"
  },
  "language_info": {
   "codemirror_mode": {
    "name": "ipython",
    "version": 3
   },
   "file_extension": ".py",
   "mimetype": "text/x-python",
   "name": "python",
   "nbconvert_exporter": "python",
   "pygments_lexer": "ipython3",
   "version": "3.7.11"
  }
 },
 "nbformat": 4,
 "nbformat_minor": 5
}
