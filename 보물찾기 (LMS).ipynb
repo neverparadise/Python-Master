{
 "cells": [
  {
   "cell_type": "code",
   "execution_count": 46,
   "id": "01e4310c",
   "metadata": {},
   "outputs": [],
   "source": [
    "# 직접해보는 것이 최고의 공부다.\n",
    "# 직접해보는 것이 최고의 공부다.\n",
    "# 직접해보는 것이 최고의 공부다.\n",
    "# 직접해보는 것이 최고의 공부다."
   ]
  },
  {
   "cell_type": "code",
   "execution_count": 47,
   "id": "37d8c77b",
   "metadata": {},
   "outputs": [],
   "source": [
    "import random"
   ]
  },
  {
   "cell_type": "code",
   "execution_count": 48,
   "id": "ceef7b42",
   "metadata": {},
   "outputs": [],
   "source": [
    "class Point2D:\n",
    "    def __init__(self, x, y):\n",
    "        self.x = x\n",
    "        self.y = y\n",
    "\n",
    "    def get_coord(self):\n",
    "        return (self.x, self.y)\n",
    "    \n",
    "    def set_coord(self, x, y):\n",
    "        self.x = x\n",
    "        self.y = y\n",
    "    \n",
    "    def get_x(self):\n",
    "        return self.x\n",
    "    \n",
    "    def set_x(self, x):\n",
    "        self.x = x\n",
    "        \n",
    "    def get_y(self):\n",
    "        return self.y\n",
    "    \n",
    "    def set_y(self, y):\n",
    "        self.y = y\n",
    "    \n",
    "    # 매직메소드 : 메소드 중에 함수 이름 앞 뒤로 __ __ 를 붙인 함수를 매직메소드라고 한다. \n",
    "    # 매직메소드의 특징 : 사용자가 직접 호출하지 않아도 호출이 된다는게 특징이다.\n",
    "    # 해당하는 조건에 맞으면 매직메소드가 자동으로 호출된다. \n",
    "    \n",
    "    def __str__(self):\n",
    "        msg = f\"({self.x}, {self.y})\"\n",
    "        return msg\n",
    "        \n",
    "    def __eq__(self, other):\n",
    "        if self.x == other.x and self.y == other.y:\n",
    "            return True\n",
    "        else:\n",
    "            return False\n",
    "        \n",
    "    "
   ]
  },
  {
   "cell_type": "code",
   "execution_count": 49,
   "id": "f33dd752",
   "metadata": {},
   "outputs": [
    {
     "name": "stdout",
     "output_type": "stream",
     "text": [
      "(1, 1)\n",
      "False\n",
      "True\n"
     ]
    }
   ],
   "source": [
    "pt = Point2D(1, 1)\n",
    "pt2 = Point2D(2, 2)\n",
    "pt3 = Point2D(1, 1)\n",
    "print(pt)\n",
    "print((pt==pt2))\n",
    "print(pt==pt3)"
   ]
  },
  {
   "cell_type": "code",
   "execution_count": null,
   "id": "06a6c6e9",
   "metadata": {},
   "outputs": [],
   "source": []
  },
  {
   "cell_type": "code",
   "execution_count": 50,
   "id": "52588a21",
   "metadata": {},
   "outputs": [],
   "source": [
    "class Player:\n",
    "    def __init__(self, name, x=0, y=0):\n",
    "        self.name = name\n",
    "        self.point = Point2D(x, y)\n",
    "    \n",
    "    def move_right(self):\n",
    "        self.point.set_x(self.point.x + 1)\n",
    "        if self.check_boundary_out():\n",
    "            self.point.set_x(self.point.x - 1)\n",
    "            \n",
    "    def move_left(self):\n",
    "        self.point.set_x(self.point.x - 1)\n",
    "        if self.check_boundary_out():\n",
    "            self.point.set_x(self.point.x + 1)\n",
    "            \n",
    "    def move_up(self):\n",
    "        self.point.set_y(self.point.y + 1)\n",
    "        if self.check_boundary_out():\n",
    "            self.point.set_y(self.point.y - 1)\n",
    "            \n",
    "    def move_down(self):\n",
    "        self.point.set_y(self.point.y - 1)\n",
    "        if self.check_boundary_out():\n",
    "            self.point.set_y(self.point.y + 1)\n",
    "            \n",
    "    def check_boundary_out(self):\n",
    "        if (self.point.x > 5 or self.point.y > 5 \n",
    "            or self.point.x < 0 or self.point.y < 0):\n",
    "            print(f\"Current position is {self.point}. Can't go out\")\n",
    "            return True\n",
    "        else:\n",
    "            return False\n",
    "    \n",
    "    def __str__(self):\n",
    "        msg = f\"플레이어 : {self.name}, 현재위치 : {self.point.get_coord()}\"\n",
    "        return msg"
   ]
  },
  {
   "cell_type": "code",
   "execution_count": 51,
   "id": "d5d5f8af",
   "metadata": {},
   "outputs": [],
   "source": [
    "class Treasure:\n",
    "    def __init__(self, name):\n",
    "        self.name = name\n",
    "        x = random.randint(1, 5)\n",
    "        y = random.randint(1, 5)\n",
    "        self.point = Point2D(x, y)\n",
    "        \n",
    "    def get_name(self):\n",
    "        return self.name\n",
    "    \n",
    "    def __str__(self):\n",
    "        msg = f\"보물 : {self.name}, 보물위치 : {self.point.get_coord()}\"\n",
    "        return msg"
   ]
  },
  {
   "cell_type": "code",
   "execution_count": 52,
   "id": "2ecfeb01",
   "metadata": {},
   "outputs": [],
   "source": [
    "def check_player_position(player, treasure):\n",
    "    if(player.point==treasure.point):\n",
    "        print()\n",
    "        print(f\"{player.name}이 {treasure.name}을 찾았습니다!\")\n",
    "        return True\n",
    "    else:\n",
    "        return False"
   ]
  },
  {
   "cell_type": "code",
   "execution_count": 53,
   "id": "90f4a870",
   "metadata": {},
   "outputs": [],
   "source": [
    "def run_game():\n",
    "    found = False\n",
    "    name = input(\"플레이어 이름을 입력하세요 : \")\n",
    "    player = Player(name, x=0, y=0)\n",
    "    gold = Treasure(\"금\")\n",
    "    print(gold)\n",
    "    \n",
    "    while not found:\n",
    "        string = input(\"WASD 중 하나를 입력해 움직이고 보물을 찾으세요 : \")\n",
    "        if string.lower() == \"w\":\n",
    "            player.move_up()\n",
    "            print(player)\n",
    "        elif string.lower() == \"s\":\n",
    "            player.move_down()\n",
    "            print(player)\n",
    "        elif string.lower() == \"d\":\n",
    "            player.move_right()\n",
    "            print(player)\n",
    "        elif string.lower() == \"a\":\n",
    "            player.move_left()\n",
    "            print(player)\n",
    "        else:\n",
    "            print(\"잘못된 키 입력입니다. WASD 중 하나를 입력하세요\")\n",
    "        \n",
    "        if check_player_position(player, gold):\n",
    "            found = True\n",
    "        print()\n",
    "        \n",
    "    "
   ]
  },
  {
   "cell_type": "code",
   "execution_count": 54,
   "id": "1686ddf6",
   "metadata": {},
   "outputs": [
    {
     "name": "stdout",
     "output_type": "stream",
     "text": [
      "플레이어 이름을 입력하세요 : 김국진\n",
      "보물 : 금, 보물위치 : (3, 5)\n",
      "WASD 중 하나를 입력해 움직이고 보물을 찾으세요 : w\n",
      "플레이어 : 김국진, 현재위치 : (0, 1)\n",
      "\n",
      "WASD 중 하나를 입력해 움직이고 보물을 찾으세요 : w\n",
      "플레이어 : 김국진, 현재위치 : (0, 2)\n",
      "\n",
      "WASD 중 하나를 입력해 움직이고 보물을 찾으세요 : w\n",
      "플레이어 : 김국진, 현재위치 : (0, 3)\n",
      "\n",
      "WASD 중 하나를 입력해 움직이고 보물을 찾으세요 : w\n",
      "플레이어 : 김국진, 현재위치 : (0, 4)\n",
      "\n",
      "WASD 중 하나를 입력해 움직이고 보물을 찾으세요 : w\n",
      "플레이어 : 김국진, 현재위치 : (0, 5)\n",
      "\n",
      "WASD 중 하나를 입력해 움직이고 보물을 찾으세요 : d\n",
      "플레이어 : 김국진, 현재위치 : (1, 5)\n",
      "\n",
      "WASD 중 하나를 입력해 움직이고 보물을 찾으세요 : d\n",
      "플레이어 : 김국진, 현재위치 : (2, 5)\n",
      "\n",
      "WASD 중 하나를 입력해 움직이고 보물을 찾으세요 : d\n",
      "플레이어 : 김국진, 현재위치 : (3, 5)\n",
      "\n",
      "김국진이 금을 찾았습니다!\n",
      "\n"
     ]
    }
   ],
   "source": [
    "run_game()"
   ]
  },
  {
   "cell_type": "code",
   "execution_count": null,
   "id": "a38e38da",
   "metadata": {},
   "outputs": [],
   "source": []
  }
 ],
 "metadata": {
  "kernelspec": {
   "display_name": "Python 3 (ipykernel)",
   "language": "python",
   "name": "python3"
  },
  "language_info": {
   "codemirror_mode": {
    "name": "ipython",
    "version": 3
   },
   "file_extension": ".py",
   "mimetype": "text/x-python",
   "name": "python",
   "nbconvert_exporter": "python",
   "pygments_lexer": "ipython3",
   "version": "3.7.11"
  }
 },
 "nbformat": 4,
 "nbformat_minor": 5
}
