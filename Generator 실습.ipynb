{
 "cells": [
  {
   "cell_type": "code",
   "execution_count": 21,
   "id": "0acb1a41",
   "metadata": {},
   "outputs": [],
   "source": [
    "# 제곱 함수를 작성\n",
    "# 제네레이터 : 이터레이터를 생성해주는 함수\n",
    "# 이터레이터? : 리스트, 튜플, 집합 같은 여러 개의 원소들을 가지는 컨테이너에서 원소를 하.나.씩 꺼내오는 방법을 제공하는 객체\n",
    "# 리스트, 튜플, 집합 같은 객체를 이터러블(iterable)이라고 한다. \n",
    "\n",
    "def square(num_list):\n",
    "    new_list = []\n",
    "    for item in num_list:\n",
    "        new_list.append(item * item)\n",
    "    return new_list\n",
    "\n"
   ]
  },
  {
   "cell_type": "code",
   "execution_count": 22,
   "id": "0860e88b",
   "metadata": {},
   "outputs": [
    {
     "name": "stdout",
     "output_type": "stream",
     "text": [
      "0\n",
      "1\n",
      "4\n",
      "9\n",
      "16\n",
      "25\n",
      "36\n",
      "49\n",
      "64\n",
      "81\n",
      "\n"
     ]
    }
   ],
   "source": [
    "num_list = [i for i in range(10)]\n",
    "\n",
    "for item in square(num_list):\n",
    "    print(item)\n",
    "\n",
    "print()\n"
   ]
  },
  {
   "cell_type": "code",
   "execution_count": 23,
   "id": "6636ebf1",
   "metadata": {},
   "outputs": [
    {
     "name": "stdout",
     "output_type": "stream",
     "text": [
      "0\n",
      "1\n",
      "\n",
      "\n",
      "2\n",
      "3\n",
      "4\n",
      "5\n",
      "6\n",
      "7\n",
      "8\n",
      "9\n"
     ]
    }
   ],
   "source": [
    "# 이터레이터 개념\n",
    "# iter를 통해 이터러블 객체를 이터레이터로 만들 수 있다. \n",
    "# 이터레이터는 next를 통해 값을 가져오며 next를 호출할 때마다 값을 삭제한다. \n",
    "# \n",
    "num_iter = iter(num_list)\n",
    "\n",
    "print(next(num_iter))\n",
    "print(next(num_iter))\n",
    "\n",
    "print()\n",
    "print()\n",
    "for item in num_iter:\n",
    "    print(item)"
   ]
  },
  {
   "cell_type": "code",
   "execution_count": 26,
   "id": "135889ab",
   "metadata": {},
   "outputs": [
    {
     "name": "stdout",
     "output_type": "stream",
     "text": [
      "0\n",
      "1\n",
      "\n",
      "4\n",
      "9\n",
      "16\n",
      "25\n",
      "36\n",
      "49\n",
      "64\n",
      "81\n"
     ]
    }
   ],
   "source": [
    "def generate_sqare(num_list):\n",
    "    for item in num_list:\n",
    "        yield item * item\n",
    "\n",
    "num_iter = generate_sqare(num_list)\n",
    "print(next(num_iter))\n",
    "print(next(num_iter))\n",
    "\n",
    "print()\n",
    "\n",
    "for item in num_iter:\n",
    "    print(item)"
   ]
  },
  {
   "cell_type": "code",
   "execution_count": null,
   "id": "07dc4051",
   "metadata": {},
   "outputs": [],
   "source": []
  }
 ],
 "metadata": {
  "kernelspec": {
   "display_name": "Python 3 (ipykernel)",
   "language": "python",
   "name": "python3"
  },
  "language_info": {
   "codemirror_mode": {
    "name": "ipython",
    "version": 3
   },
   "file_extension": ".py",
   "mimetype": "text/x-python",
   "name": "python",
   "nbconvert_exporter": "python",
   "pygments_lexer": "ipython3",
   "version": "3.7.11"
  }
 },
 "nbformat": 4,
 "nbformat_minor": 5
}
