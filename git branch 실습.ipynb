{
 "cells": [
  {
   "cell_type": "markdown",
   "id": "9c0f627c",
   "metadata": {},
   "source": [
    "# 주피터 실습"
   ]
  },
  {
   "cell_type": "code",
   "execution_count": 7,
   "id": "3d367aa9",
   "metadata": {},
   "outputs": [
    {
     "name": "stdout",
     "output_type": "stream",
     "text": [
      "/home/neverparadise\r\n"
     ]
    }
   ],
   "source": [
    "# 매직 커맨드\n",
    "\n",
    "!pwd\n",
    "!mkdir workplace2"
   ]
  },
  {
   "cell_type": "code",
   "execution_count": 8,
   "id": "0050999a",
   "metadata": {},
   "outputs": [
    {
     "name": "stdout",
     "output_type": "stream",
     "text": [
      " Desktop       Public\t\t        jinwoo\r\n",
      " Documents     PycharmProjects\t        libinput-gestures\r\n",
      " Downloads     Templates\t        snap\r\n",
      " GoogleDrive   Untitled.ipynb\t        vnc_virtual_display_linker\r\n",
      "'LMS F1'       Videos\t\t        winehq.key\r\n",
      " Music\t       anaconda3\t        workplace2\r\n",
      " Pictures     'git branch 실습.ipynb'\r\n"
     ]
    }
   ],
   "source": [
    "!ls"
   ]
  },
  {
   "cell_type": "code",
   "execution_count": 12,
   "id": "7540a83d",
   "metadata": {},
   "outputs": [],
   "source": [
    "!cd workplace2"
   ]
  },
  {
   "cell_type": "code",
   "execution_count": 14,
   "id": "94046b52",
   "metadata": {},
   "outputs": [
    {
     "name": "stdout",
     "output_type": "stream",
     "text": [
      "/home/neverparadise/workplace2\n"
     ]
    }
   ],
   "source": [
    "%cd workplace2"
   ]
  },
  {
   "cell_type": "code",
   "execution_count": 16,
   "id": "b090227e",
   "metadata": {},
   "outputs": [],
   "source": [
    "%ls"
   ]
  },
  {
   "cell_type": "code",
   "execution_count": 17,
   "id": "98042d69",
   "metadata": {},
   "outputs": [
    {
     "name": "stdout",
     "output_type": "stream",
     "text": [
      "/home/neverparadise/workplace2/.git/ 안의 빈 깃 저장소를 다시 초기화했습니다\r\n"
     ]
    }
   ],
   "source": [
    "!git init"
   ]
  },
  {
   "cell_type": "code",
   "execution_count": 18,
   "id": "7203df44",
   "metadata": {},
   "outputs": [
    {
     "name": "stdout",
     "output_type": "stream",
     "text": [
      "현재 브랜치 master\r\n",
      "\r\n",
      "아직 커밋이 없습니다\r\n",
      "\r\n",
      "커밋할 사항 없음 (파일을 만들거나 복사하고 \"git add\"를 사용하면 추적합니다)\r\n"
     ]
    }
   ],
   "source": [
    "!git status"
   ]
  },
  {
   "cell_type": "code",
   "execution_count": 19,
   "id": "884feee6",
   "metadata": {},
   "outputs": [
    {
     "name": "stdout",
     "output_type": "stream",
     "text": [
      "'first-repository'에 복제합니다...\n",
      "remote: Enumerating objects: 6, done.\u001b[K\n",
      "remote: Counting objects: 100% (6/6), done.\u001b[K\n",
      "remote: Compressing objects: 100% (2/2), done.\u001b[K\n",
      "remote: Total 6 (delta 0), reused 6 (delta 0), pack-reused 0\u001b[K\n",
      "오브젝트 묶음 푸는 중: 100% (6/6), 455 바이트 | 455.00 KiB/s, 완료.\n"
     ]
    }
   ],
   "source": [
    "!git clone https://github.com/minssoj/first-repository"
   ]
  },
  {
   "cell_type": "code",
   "execution_count": 21,
   "id": "3679cdcc",
   "metadata": {},
   "outputs": [
    {
     "name": "stdout",
     "output_type": "stream",
     "text": [
      "/home/neverparadise/workplace2/first-repository\n"
     ]
    }
   ],
   "source": [
    "%cd first-repository"
   ]
  },
  {
   "cell_type": "code",
   "execution_count": 23,
   "id": "b640c4bf",
   "metadata": {},
   "outputs": [
    {
     "name": "stdout",
     "output_type": "stream",
     "text": [
      "README.md\r\n"
     ]
    }
   ],
   "source": [
    "%ls"
   ]
  },
  {
   "cell_type": "code",
   "execution_count": 24,
   "id": "abf7e148",
   "metadata": {
    "scrolled": true
   },
   "outputs": [
    {
     "name": "stdout",
     "output_type": "stream",
     "text": [
      "/home/neverparadise/workplace2\n"
     ]
    }
   ],
   "source": [
    "%cd .."
   ]
  },
  {
   "cell_type": "code",
   "execution_count": 30,
   "id": "10ba1688",
   "metadata": {},
   "outputs": [
    {
     "name": "stdout",
     "output_type": "stream",
     "text": [
      "first-repository  workspace\r\n"
     ]
    }
   ],
   "source": [
    "!ls"
   ]
  },
  {
   "cell_type": "code",
   "execution_count": 32,
   "id": "6db75d4a",
   "metadata": {},
   "outputs": [
    {
     "name": "stdout",
     "output_type": "stream",
     "text": [
      "/home/neverparadise/workplace2/workspace\n"
     ]
    }
   ],
   "source": [
    "%cd workspace"
   ]
  },
  {
   "cell_type": "code",
   "execution_count": 33,
   "id": "97f99ab6",
   "metadata": {},
   "outputs": [
    {
     "name": "stdout",
     "output_type": "stream",
     "text": [
      "README.md\r\n"
     ]
    }
   ],
   "source": [
    "!ls"
   ]
  },
  {
   "cell_type": "code",
   "execution_count": 35,
   "id": "8fc2dc5d",
   "metadata": {},
   "outputs": [],
   "source": [
    "!git branch test_branch"
   ]
  },
  {
   "cell_type": "code",
   "execution_count": 37,
   "id": "06f24f61",
   "metadata": {},
   "outputs": [
    {
     "name": "stdout",
     "output_type": "stream",
     "text": [
      "'test_branch' 브랜치로 전환합니다\r\n"
     ]
    }
   ],
   "source": [
    "!git checkout test_branch"
   ]
  },
  {
   "cell_type": "code",
   "execution_count": 38,
   "id": "f01962b7",
   "metadata": {},
   "outputs": [
    {
     "name": "stdout",
     "output_type": "stream",
     "text": [
      "  main\u001b[m\r\n",
      "* \u001b[32mtest_branch\u001b[m\r\n"
     ]
    }
   ],
   "source": [
    "!git branch"
   ]
  },
  {
   "cell_type": "code",
   "execution_count": 39,
   "id": "6c385d32",
   "metadata": {},
   "outputs": [
    {
     "name": "stdout",
     "output_type": "stream",
     "text": [
      "README.md\r\n"
     ]
    }
   ],
   "source": [
    "!ls"
   ]
  },
  {
   "cell_type": "code",
   "execution_count": 40,
   "id": "598d0cb1",
   "metadata": {},
   "outputs": [
    {
     "name": "stdout",
     "output_type": "stream",
     "text": [
      "Username for 'https://github.com': ^C\n"
     ]
    }
   ],
   "source": [
    "# 로컬에 브랜치를 만들었으면 원격저장소에도 브랜치를 만들어야 push, pull 작업을 할 수 있다. \n",
    "\n",
    "!git push origin test_branch\n"
   ]
  },
  {
   "cell_type": "code",
   "execution_count": 42,
   "id": "b49200c4",
   "metadata": {},
   "outputs": [
    {
     "name": "stdout",
     "output_type": "stream",
     "text": [
      "Requirement already satisfied: numpy in /home/neverparadise/anaconda3/envs/env1/lib/python3.6/site-packages (1.19.5)\r\n"
     ]
    }
   ],
   "source": [
    "!pip install numpy"
   ]
  },
  {
   "cell_type": "code",
   "execution_count": 44,
   "id": "4be15187",
   "metadata": {},
   "outputs": [
    {
     "name": "stderr",
     "output_type": "stream",
     "text": [
      "UsageError: Line magic function `%git` not found.\n"
     ]
    }
   ],
   "source": [
    "# 특정 경로로 이동하거나 주피터 외부의 파일을 사용해야할 때 퍼센트 사용\n",
    "%\n",
    "\n",
    "# 이미 설치된 패키지의 명령어를 사용할 때는 ! 느낌표 사용 \n",
    "# 느낌표는 쉘 커맨드. \n",
    "!"
   ]
  },
  {
   "cell_type": "code",
   "execution_count": 45,
   "id": "31da87c8",
   "metadata": {},
   "outputs": [],
   "source": [
    "!echo \"next new contents\" >> README.md"
   ]
  },
  {
   "cell_type": "code",
   "execution_count": 46,
   "id": "0629c861",
   "metadata": {},
   "outputs": [
    {
     "name": "stdout",
     "output_type": "stream",
     "text": [
      "# first-repository\r\n",
      "add new contents\r\n",
      "next new contents\r\n"
     ]
    }
   ],
   "source": [
    "!cat README.md"
   ]
  },
  {
   "cell_type": "code",
   "execution_count": 47,
   "id": "6f78fdad",
   "metadata": {},
   "outputs": [
    {
     "name": "stdout",
     "output_type": "stream",
     "text": [
      "현재 브랜치 test_branch\r\n",
      "커밋하도록 정하지 않은 변경 사항:\r\n",
      "  (무엇을 커밋할지 바꾸려면 \"git add <파일>...\"을 사용하십시오)\r\n",
      "  (작업 디렉토리의 변경을 무시하려면 \"git restore <file>...\"을 사용하시오)\r\n",
      "\t\u001b[31m수정함:        README.md\u001b[m\r\n",
      "\r\n",
      "커밋할 변경 사항을 추가하지 않았습니다 (\"git add\" 및/또는 \"git commit -a\"를\r\n",
      "사용하십시오)\r\n"
     ]
    }
   ],
   "source": [
    "!git status"
   ]
  },
  {
   "cell_type": "code",
   "execution_count": 48,
   "id": "c728cc70",
   "metadata": {},
   "outputs": [],
   "source": [
    "!git add README.md"
   ]
  },
  {
   "cell_type": "code",
   "execution_count": null,
   "id": "bf995b33",
   "metadata": {},
   "outputs": [],
   "source": []
  },
  {
   "cell_type": "code",
   "execution_count": 50,
   "id": "57ac1223",
   "metadata": {},
   "outputs": [
    {
     "name": "stdout",
     "output_type": "stream",
     "text": [
      "[test_branch a9453a9] add new contents\r\n",
      " 1 file changed, 1 insertion(+)\r\n"
     ]
    }
   ],
   "source": [
    "!git commit -m \"add new contents\""
   ]
  },
  {
   "cell_type": "code",
   "execution_count": null,
   "id": "14ce95ed",
   "metadata": {},
   "outputs": [
    {
     "name": "stdout",
     "output_type": "stream",
     "text": [
      "Username for 'https://github.com': "
     ]
    }
   ],
   "source": [
    "!git push origin test_branch"
   ]
  },
  {
   "cell_type": "code",
   "execution_count": null,
   "id": "c3ba71d2",
   "metadata": {},
   "outputs": [],
   "source": []
  }
 ],
 "metadata": {
  "kernelspec": {
   "display_name": "Python 3 (ipykernel)",
   "language": "python",
   "name": "python3"
  },
  "language_info": {
   "codemirror_mode": {
    "name": "ipython",
    "version": 3
   },
   "file_extension": ".py",
   "mimetype": "text/x-python",
   "name": "python",
   "nbconvert_exporter": "python",
   "pygments_lexer": "ipython3",
   "version": "3.7.11"
  }
 },
 "nbformat": 4,
 "nbformat_minor": 5
}
