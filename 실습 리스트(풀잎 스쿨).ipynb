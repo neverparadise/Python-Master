{
 "cells": [
  {
   "cell_type": "markdown",
   "metadata": {},
   "source": [
    "# Function  \n",
    "- 가우시안 분포 함수로 함수 구현시키기"
   ]
  },
  {
   "cell_type": "markdown",
   "metadata": {},
   "source": [
    "# StudentSt"
   ]
  },
  {
   "cell_type": "markdown",
   "metadata": {},
   "source": [
    "# Class Basic  \n",
    "\n",
    "클래스가 뭘까요? 왜 쓸까요? 생각 들어보기\n",
    "1. 클래스 기원 설명 (구조체) -> 한계\n",
    "2. 생성자, 멤버변수 \n",
    "3. 메소드  \n",
    "4. 인스턴스와 멤버 접근 연산자\n",
    "5. 상속\n",
    "\n",
    "김지현, 김태균, 서정욱, 공정배, 이소희, 박장호, 김수연, 문경렬, 윤준영, \n",
    "\n",
    "정강민, 김범중, \n",
    "\n"
   ]
  },
  {
   "cell_type": "markdown",
   "metadata": {},
   "source": [
    "# DoorLock"
   ]
  },
  {
   "cell_type": "markdown",
   "metadata": {},
   "source": [
    "여러분 사실 파이썬 코딩의 기술을 지금 다 보는 것은 중요한게 아닙니다. \n",
    "코딩의 기술은 다 암기를 하면 좋지만 언젠가는 잊어버리게 되니까 그때그때 찾아서 사전처럼 쓰는게 좋습니다. \n",
    "가장 중요한 것은 수학 개념들을 코드로 옮기는 것이라고 생각합니다. \n",
    "왜냐하면 이론을 실제로 구현하지 못하면 소용이 없으니까요\n",
    "\n",
    "이터레이터 : iter(iterable)을 적용한 것\n",
    "이터레이터에 next, prev 사용 가능\n",
    "\n",
    "연산자 오버로딩"
   ]
  },
  {
   "cell_type": "markdown",
   "metadata": {},
   "source": [
    "# Point2D 얕은 복사, 깊은복사, 다중대입식을 통한 좌표변경"
   ]
  },
  {
   "cell_type": "markdown",
   "metadata": {},
   "source": [
    "# *args"
   ]
  },
  {
   "cell_type": "markdown",
   "metadata": {},
   "source": [
    "# Point3D (상속)"
   ]
  },
  {
   "cell_type": "markdown",
   "metadata": {},
   "source": [
    "# UserInfo if, 반복문, 모듈화"
   ]
  },
  {
   "cell_type": "markdown",
   "metadata": {},
   "source": [
    "# 모듈화"
   ]
  },
  {
   "cell_type": "markdown",
   "metadata": {},
   "source": [
    "# 내적, 행렬변환"
   ]
  },
  {
   "cell_type": "markdown",
   "metadata": {},
   "source": [
    "# 선형 변환 예제"
   ]
  },
  {
   "cell_type": "markdown",
   "metadata": {},
   "source": [
    "# 기댓값, 분산"
   ]
  },
  {
   "cell_type": "markdown",
   "metadata": {},
   "source": [
    "# 시그모이드 함수 구현"
   ]
  },
  {
   "cell_type": "markdown",
   "metadata": {},
   "source": [
    "# 고윳값, 고윳값 분해"
   ]
  },
  {
   "cell_type": "markdown",
   "metadata": {},
   "source": [
    "# 부피, 경사하강"
   ]
  },
  {
   "cell_type": "markdown",
   "metadata": {},
   "source": [
    "# 손실함수(MSE, CSE)"
   ]
  },
  {
   "cell_type": "markdown",
   "metadata": {},
   "source": [
    "# 정보이론, 엔트로피"
   ]
  },
  {
   "cell_type": "markdown",
   "metadata": {},
   "source": [
    "# 리스트 컴프리헨션"
   ]
  },
  {
   "cell_type": "code",
   "execution_count": null,
   "metadata": {},
   "outputs": [],
   "source": []
  },
  {
   "cell_type": "code",
   "execution_count": null,
   "metadata": {},
   "outputs": [],
   "source": []
  }
 ],
 "metadata": {
  "kernelspec": {
   "display_name": "Python 3 (ipykernel)",
   "language": "python",
   "name": "python3"
  },
  "language_info": {
   "codemirror_mode": {
    "name": "ipython",
    "version": 3
   },
   "file_extension": ".py",
   "mimetype": "text/x-python",
   "name": "python",
   "nbconvert_exporter": "python",
   "pygments_lexer": "ipython3",
   "version": "3.7.11"
  }
 },
 "nbformat": 4,
 "nbformat_minor": 2
}
