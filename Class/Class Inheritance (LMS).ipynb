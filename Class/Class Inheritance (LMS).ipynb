{
 "cells": [
  {
   "cell_type": "markdown",
   "id": "ed22157e",
   "metadata": {},
   "source": [
    "# Class  \n",
    "\n",
    "1. 생성자  \n",
    "2. 인스턴스  \n",
    "3. 메소드\n",
    "4. self\n",
    "5. 멤버변수\n",
    "6. 멤버접근연산자\n"
   ]
  },
  {
   "cell_type": "code",
   "execution_count": 2,
   "id": "a81d1564",
   "metadata": {},
   "outputs": [],
   "source": [
    "x, y = 1, 2"
   ]
  },
  {
   "cell_type": "code",
   "execution_count": 3,
   "id": "a03c890c",
   "metadata": {},
   "outputs": [],
   "source": [
    "x = 3\n",
    "y = 4\n",
    "\n",
    "# 관리하기가 귀찮다!!!"
   ]
  },
  {
   "cell_type": "code",
   "execution_count": 27,
   "id": "bf6deae7",
   "metadata": {},
   "outputs": [],
   "source": [
    "class Point2D:\n",
    "    __x = None\n",
    "    __y = None\n",
    "    def __init__(self, x, y):\n",
    "        # 멤버변수의 속성 : 파이썬에서는 private, public이 존재합니다. \n",
    "        # private : 멤버접근연산자를통해 멤버변수나 메소드에 직접 접근이 불가능합니다. __ (underbar) 2개를 붙여서 만듭니다. \n",
    "        # public : 멤버접근연산자를 통해 자유롭게 접근할 수 있습니다. \n",
    "        \n",
    "        self.__x = x\n",
    "        self.__y = y\n",
    "    # getter 메소드 : private 멤버변수를 가져오고 싶을 때 보통 구현을 합니다. \n",
    "    def get_coord(self):\n",
    "        return (self.__x, self.__y)\n",
    "    \n",
    "    def get_x(self):\n",
    "        return self.__x\n",
    "    \n",
    "    def get_y(self):\n",
    "        return self.__y\n",
    "    \n",
    "    # setter 메소드 : 멤버변수를 변경하고 싶을 때 사용합니다. \n",
    "    def set_coord(self, x, y):\n",
    "        self.__x = x\n",
    "        self.__y = y\n",
    "    "
   ]
  },
  {
   "cell_type": "code",
   "execution_count": 26,
   "id": "0acc81ca",
   "metadata": {},
   "outputs": [
    {
     "name": "stdout",
     "output_type": "stream",
     "text": [
      "1\n",
      "(1, 1)\n",
      "---- 변경후\n",
      "2\n",
      "(2, 2)\n"
     ]
    }
   ],
   "source": [
    "point = Point2D(1, 1)\n",
    "#print(point.__x)\n",
    "#print(point.__x)\n",
    "print(point.get_x())\n",
    "print(point.get_xy())\n",
    "\n",
    "print(\"---- 변경후\")\n",
    "point.set_xy(2, 2)\n",
    "print(point.get_x())\n",
    "print(point.get_xy())"
   ]
  },
  {
   "cell_type": "markdown",
   "id": "0740ed46",
   "metadata": {},
   "source": [
    "# 클래스의 상속(inheritance)\n",
    "\n",
    "많은 돈을 상속 받으면 삶이 편해지죠?  \n",
    "많은 기능을 부모 클래스로부터 상속받으면 개발자의 삶이 굉장히 편해집니다!"
   ]
  },
  {
   "cell_type": "code",
   "execution_count": 28,
   "id": "99d4a5e7",
   "metadata": {},
   "outputs": [],
   "source": [
    "# 상속을 받기 위해서는 괄호를 사용해서 부모 클래스의 이름을 적어줘야 한다. \n",
    "# Point3D 클래스를 Point2D 클래스의 자식클래스라고 한다. \n",
    "# 자식클래스는 부모 클래스의 public 멤버들을 활용할 수 있다!!\n",
    "class Point3D(Point2D):\n",
    "    def __init__(self, x, y, z):\n",
    "        # super() : 부모 클래스를 호출합니다. \n",
    "        super().__init__(x, y)\n",
    "        # 자식클래스는 뭘 못하길래 get_x()를 썼을까? -> 자식 클래스는 부모 클래스의 private 멤버변수에 접근하지 못한다!!\n",
    "        # 따라서 getter를 써야한다!!\n",
    "        self.__x = super().get_x() \n",
    "        #self.x = super().x private이 아니면 이렇게 가능!!\n",
    "        self.__y = super().get_y()\n",
    "        self.__z = z\n",
    "    \n",
    "    # 메소드 오버라이딩 : 부모클래스의 메소드를 자식클래스에서 재정의합니다. \n",
    "    def get_coord(self):\n",
    "        return (self.__x, self.__y, self.__z)\n",
    "    \n",
    "    def set_coord(self, x, y, z):\n",
    "        self.__x = x\n",
    "        self.__y = y\n",
    "        self.__z = z\n",
    "    \n",
    "    def get_z(self):\n",
    "        return self.__z\n",
    "    "
   ]
  },
  {
   "cell_type": "code",
   "execution_count": 32,
   "id": "3b12c2f9",
   "metadata": {
    "scrolled": true
   },
   "outputs": [
    {
     "name": "stdout",
     "output_type": "stream",
     "text": [
      "1\n",
      "1\n"
     ]
    }
   ],
   "source": [
    "point2 = Point3D(1, 1, 1)\n",
    "print(point2.get_x())\n",
    "print(point2.get_z())"
   ]
  },
  {
   "cell_type": "code",
   "execution_count": 33,
   "id": "875b7f6c",
   "metadata": {},
   "outputs": [
    {
     "name": "stdout",
     "output_type": "stream",
     "text": [
      "아무말이나 입력해보세요 : 안녕하세요\n",
      "안녕하세요\n"
     ]
    }
   ],
   "source": [
    "string = input(\"아무말이나 입력해보세요 : \")\n",
    "print(string)"
   ]
  },
  {
   "cell_type": "code",
   "execution_count": 27,
   "id": "46bed172",
   "metadata": {},
   "outputs": [],
   "source": [
    "import sys\n",
    "\n",
    "class UserInfo:\n",
    "    def __init__(self, id_, pw):\n",
    "        self.__id = id_\n",
    "        self.__pw = pw\n",
    "    \n",
    "    def get_id(self):\n",
    "        return self.__id\n",
    "    \n",
    "    def get_pw(self):\n",
    "        string = input(\"비밀번호를 입력하세요 : \")\n",
    "        if string==self.__pw:\n",
    "            print(\"비밀번호가 일치합니다.\")\n",
    "            return self.__pw\n",
    "        else:\n",
    "            print(\"비밀번호가 틀렸습니다! 프로그램을 종료합니다\")\n",
    "            sys.exit()\n",
    "            \n",
    "    def reset_pw(self):\n",
    "        input_ = self.get_pw()\n",
    "        self.__pw == input_\n",
    "        new_pw = input(\"새로운 비밀번호를 입력하세요 : \")\n",
    "        self.__pw = new_pw\n",
    "        print(\"비밀번호 변경이 완료되었습니다.\")\n",
    "        \n",
    "        "
   ]
  },
  {
   "cell_type": "code",
   "execution_count": 28,
   "id": "00c30240",
   "metadata": {},
   "outputs": [],
   "source": [
    "# 상속을 통해서, StudentInfo, FacilInfo 만들어보세요\n",
    "# 두 개의 클래스는 새로운 멤버변수로 이름\n",
    "# 학생은 파이썬을 배운기간을 멤버변수로 추가하고 getter, setter를 구현하세요. \n",
    "\n",
    "class StudentInfo(UserInfo):\n",
    "    def __init__(self, id_, pw, year):\n",
    "        super().__init__(id_, pw)\n",
    "        self.learning_period = year\n",
    "    \n",
    "    def get_period(self):\n",
    "        return self.learning_period\n",
    "    \n",
    "    def set_period(self, period):\n",
    "        self.learning_period = period\n"
   ]
  },
  {
   "cell_type": "code",
   "execution_count": 29,
   "id": "dab9de35",
   "metadata": {},
   "outputs": [],
   "source": [
    "stu_info = StudentInfo(\"SSAC123\", \"icandoit\", 1)"
   ]
  },
  {
   "cell_type": "code",
   "execution_count": 30,
   "id": "c56817a9",
   "metadata": {},
   "outputs": [
    {
     "name": "stdout",
     "output_type": "stream",
     "text": [
      "비밀번호를 입력하세요 : ican'tdoit\n",
      "비밀번호가 틀렸습니다! 프로그램을 종료합니다\n"
     ]
    },
    {
     "ename": "SystemExit",
     "evalue": "",
     "output_type": "error",
     "traceback": [
      "An exception has occurred, use %tb to see the full traceback.\n",
      "\u001b[1;31mSystemExit\u001b[0m\n"
     ]
    },
    {
     "name": "stderr",
     "output_type": "stream",
     "text": [
      "c:\\users\\ye200\\anaconda3\\envs\\env\\lib\\site-packages\\IPython\\core\\interactiveshell.py:3449: UserWarning: To exit: use 'exit', 'quit', or Ctrl-D.\n",
      "  warn(\"To exit: use 'exit', 'quit', or Ctrl-D.\", stacklevel=1)\n"
     ]
    }
   ],
   "source": [
    "# 틀린 비밀번호를 입력해봅시다.\n",
    "stu_info.get_pw()"
   ]
  },
  {
   "cell_type": "code",
   "execution_count": 31,
   "id": "d3bbc77c",
   "metadata": {},
   "outputs": [
    {
     "name": "stdout",
     "output_type": "stream",
     "text": [
      "비밀번호를 입력하세요 : icandoit\n",
      "비밀번호가 일치합니다.\n"
     ]
    },
    {
     "data": {
      "text/plain": [
       "'icandoit'"
      ]
     },
     "execution_count": 31,
     "metadata": {},
     "output_type": "execute_result"
    }
   ],
   "source": [
    "# 맞는 비밀번호를 입력해봅시다.\n",
    "stu_info.get_pw()"
   ]
  },
  {
   "cell_type": "code",
   "execution_count": 32,
   "id": "3362e2e0",
   "metadata": {
    "scrolled": true
   },
   "outputs": [
    {
     "name": "stdout",
     "output_type": "stream",
     "text": [
      "비밀번호를 입력하세요 : ican'tdoit\n",
      "비밀번호가 틀렸습니다! 프로그램을 종료합니다\n"
     ]
    },
    {
     "ename": "SystemExit",
     "evalue": "",
     "output_type": "error",
     "traceback": [
      "An exception has occurred, use %tb to see the full traceback.\n",
      "\u001b[1;31mSystemExit\u001b[0m\n"
     ]
    }
   ],
   "source": [
    "# 비밀번호를 초기화해봅시다. \n",
    "stu_info.reset_pw()"
   ]
  },
  {
   "cell_type": "code",
   "execution_count": 33,
   "id": "164883db",
   "metadata": {},
   "outputs": [
    {
     "name": "stdout",
     "output_type": "stream",
     "text": [
      "비밀번호를 입력하세요 : icandoit\n",
      "비밀번호가 일치합니다.\n",
      "새로운 비밀번호를 입력하세요 : wecandoit\n",
      "비밀번호 변경이 완료되었습니다.\n"
     ]
    }
   ],
   "source": [
    "stu_info.reset_pw()"
   ]
  },
  {
   "cell_type": "code",
   "execution_count": 34,
   "id": "d1163e98",
   "metadata": {},
   "outputs": [
    {
     "name": "stdout",
     "output_type": "stream",
     "text": [
      "비밀번호를 입력하세요 : wecandoit\n",
      "비밀번호가 일치합니다.\n"
     ]
    },
    {
     "data": {
      "text/plain": [
       "'wecandoit'"
      ]
     },
     "execution_count": 34,
     "metadata": {},
     "output_type": "execute_result"
    }
   ],
   "source": [
    "stu_info.get_pw()"
   ]
  },
  {
   "cell_type": "code",
   "execution_count": null,
   "id": "b3788a80",
   "metadata": {},
   "outputs": [],
   "source": []
  }
 ],
 "metadata": {
  "kernelspec": {
   "display_name": "Python 3 (ipykernel)",
   "language": "python",
   "name": "python3"
  },
  "language_info": {
   "codemirror_mode": {
    "name": "ipython",
    "version": 3
   },
   "file_extension": ".py",
   "mimetype": "text/x-python",
   "name": "python",
   "nbconvert_exporter": "python",
   "pygments_lexer": "ipython3",
   "version": "3.7.11"
  }
 },
 "nbformat": 4,
 "nbformat_minor": 5
}
