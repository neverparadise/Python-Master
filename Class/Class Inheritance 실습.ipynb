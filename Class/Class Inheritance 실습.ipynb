{
 "cells": [
  {
   "cell_type": "markdown",
   "id": "3aad4baf",
   "metadata": {},
   "source": [
    "# 클래스 핵심 개념  \n",
    "\n",
    "1. 멤버변수\n",
    "2. 생성자\n",
    "3. 메소드\n",
    "4. 멤버 접근 연산자 . \n",
    "5. 인스턴스 \n",
    "6. 멤버변수의 속성 (private, public)"
   ]
  },
  {
   "cell_type": "code",
   "execution_count": 38,
   "id": "961ee274",
   "metadata": {},
   "outputs": [],
   "source": [
    "class Student:\n",
    "    \n",
    "    def __init__(self, ID, Name):\n",
    "        self.__id = ID\n",
    "        self.__name = Name\n",
    "    \n",
    "    def set_id(self, ID):\n",
    "        self.__id = ID\n",
    "        \n",
    "    def set_name(self, Name):\n",
    "        self.__name = Name\n",
    "        \n",
    "    def get_name(self):\n",
    "        return self.__name\n",
    "    \n",
    "    def get_id(self):\n",
    "        return self.__id\n",
    "    \n",
    "    # 매직 메소드.\n",
    "    def __str__(self):\n",
    "        msg = f\"id:{self.__id}, name:{self.__name}\"\n",
    "        return msg\n",
    "    \n",
    "    def __eq__(self, other):\n",
    "        if self.__id == other.__id and self.__name == other.__name:\n",
    "            return True\n",
    "        else:\n",
    "            return False\n",
    "    \n",
    "    "
   ]
  },
  {
   "cell_type": "code",
   "execution_count": 39,
   "id": "5485351d",
   "metadata": {
    "scrolled": true
   },
   "outputs": [
    {
     "name": "stdout",
     "output_type": "stream",
     "text": [
      "윤준영\n",
      "서정욱\n",
      "False\n",
      "True\n"
     ]
    }
   ],
   "source": [
    "student = Student(1111, \"윤준영\")\n",
    "student2 = Student(1112, \"서정욱\")\n",
    "student3 = Student(1111, \"윤준영\")\n",
    "\n",
    "print(student.get_name())\n",
    "print(student2.get_name())\n",
    "\n",
    "print(student == student2)\n",
    "print(student == student3)"
   ]
  },
  {
   "cell_type": "code",
   "execution_count": 36,
   "id": "a4823020",
   "metadata": {
    "scrolled": false
   },
   "outputs": [
    {
     "name": "stdout",
     "output_type": "stream",
     "text": [
      "<__main__.Student object at 0x7f2b10939c88>\n"
     ]
    }
   ],
   "source": [
    "print(student)"
   ]
  },
  {
   "cell_type": "code",
   "execution_count": 20,
   "id": "7063810d",
   "metadata": {},
   "outputs": [
    {
     "data": {
      "text/plain": [
       "['__class__',\n",
       " '__delattr__',\n",
       " '__dir__',\n",
       " '__doc__',\n",
       " '__eq__',\n",
       " '__format__',\n",
       " '__ge__',\n",
       " '__getattribute__',\n",
       " '__gt__',\n",
       " '__hash__',\n",
       " '__init__',\n",
       " '__init_subclass__',\n",
       " '__le__',\n",
       " '__lt__',\n",
       " '__ne__',\n",
       " '__new__',\n",
       " '__reduce__',\n",
       " '__reduce_ex__',\n",
       " '__repr__',\n",
       " '__setattr__',\n",
       " '__sizeof__',\n",
       " '__str__',\n",
       " '__subclasshook__']"
      ]
     },
     "execution_count": 20,
     "metadata": {},
     "output_type": "execute_result"
    }
   ],
   "source": [
    "dir(object)"
   ]
  },
  {
   "cell_type": "markdown",
   "id": "0b142f80",
   "metadata": {},
   "source": [
    "# 상속"
   ]
  },
  {
   "cell_type": "code",
   "execution_count": 53,
   "id": "9e838558",
   "metadata": {},
   "outputs": [],
   "source": [
    "# 상속을 하는 이유 : 코드를 재활용하고 싶어서\n",
    "# 상속 방법 : 클래스의 인자에 부모 클래스를 넣는다. \n",
    "\n",
    "class GraduatedStudent(Student):\n",
    "    \n",
    "    # super().__init__ 하고 난 뒤에는\n",
    "    \n",
    "    #__id = 1234\n",
    "    #__name = \"고승일\"\n",
    "    \n",
    "    def __init__(self, ID, Name, Year):\n",
    "        self.__graduatedYear = Year\n",
    "        # Student().\n",
    "        super().__init__(ID, Name)\n",
    "    \n",
    "    # 메소드 오버라이딩 \n",
    "    # method overriding :\n",
    "    # 부모 클래스에 있는 메소드를 자식 클래스에서 재정의\n",
    "    def __str__(self):\n",
    "        msg = super().__str__() + f\", 졸업년도 : {self.__graduatedYear}\"\n",
    "        return msg"
   ]
  },
  {
   "cell_type": "code",
   "execution_count": 52,
   "id": "bdcd009a",
   "metadata": {},
   "outputs": [
    {
     "name": "stdout",
     "output_type": "stream",
     "text": [
      "id:1234, name:고승일, 졸업년도 : 2200\n"
     ]
    }
   ],
   "source": [
    "gradStu = GraduatedStudent(1234, \"고승일\", \"2200\")\n",
    "gradStu.get_id()\n",
    "\n",
    "print(gradStu)"
   ]
  },
  {
   "cell_type": "code",
   "execution_count": 79,
   "id": "c453a66b",
   "metadata": {},
   "outputs": [],
   "source": [
    "# x, y 좌표를 저장하는 클래스를 만드세요\n",
    "# x, y 값을 setter를 통해 할당하고, getter를 통해 가져옵니다.\n",
    "# print를 통해 \n",
    "# setter의 경우 인스턴스의 멤버변수를 변경하고 싶을 때 사용합니다.\n",
    "class Point2D:\n",
    "    \n",
    "    def __init__(self, x, y):\n",
    "        self.__x = x\n",
    "        self.__y = y\n",
    "    \n",
    "    def set_coord(self, x, y):\n",
    "        self.__x = x\n",
    "        self.__y = y\n",
    "    \n",
    "    def get_x(self):\n",
    "        return self.__x\n",
    "    \n",
    "    def get_y(self):\n",
    "        return self.__y\n",
    "    \n",
    "    def get_coord(self):\n",
    "        return (x, y)\n",
    "    \n",
    "    def __str__(self):\n",
    "        msg = f\"({self.__x}, {self.__y})\"\n",
    "        return msg\n",
    "    \n",
    "    # 연산자 오버로딩\n",
    "    def __add__(self, other):\n",
    "        # 같은 클래스이기 때문에 private임에도 접근 가능\n",
    "        self.__x = self.__x + other.__x\n",
    "        self.__y = self.__y + other.__y\n",
    "        return self"
   ]
  },
  {
   "cell_type": "code",
   "execution_count": 80,
   "id": "6b00c251",
   "metadata": {},
   "outputs": [
    {
     "name": "stdout",
     "output_type": "stream",
     "text": [
      "(1, -1)\n",
      "(0, 0)\n"
     ]
    }
   ],
   "source": [
    "pt = Point2D(1, -1)\n",
    "pt2 = Point2D(-1, 1)\n",
    "print(pt)\n",
    "\n",
    "pt3 = pt + pt2\n",
    "print(pt)\n"
   ]
  },
  {
   "cell_type": "markdown",
   "id": "f24661d0",
   "metadata": {},
   "source": [
    "Point2D 클래스를 상속받아서  \n",
    "Point3D 클래스를 만들어보세요  \n",
    "마찬가지로 setter와 getter가 존재하고,  \n",
    "setter와 getter도 오버라이딩 해야합니다.   \n",
    "__str__ 메소드를 오버라이딩 합니다.   "
   ]
  },
  {
   "cell_type": "code",
   "execution_count": 107,
   "id": "1ee5e80c",
   "metadata": {},
   "outputs": [],
   "source": [
    "class Point3D(Point2D):\n",
    "    # 힌트 메소드 오버라이딩은 자식 클래스에서 \n",
    "    # 부모 메소드를 재정의 \n",
    "    def __init__(self, x, y, z):\n",
    "        super().__init__(x, y)\n",
    "        self.__x = super().get_x()\n",
    "        self.__y = super().get_y()\n",
    "        self.__z = z\n",
    "    \n",
    "    def get_z(self):\n",
    "        return self.__z\n",
    "\n",
    "    def set_coord(self, x, y, z):\n",
    "        self.__x = x\n",
    "        self.__y = y\n",
    "        self.__z = z\n",
    "        \n",
    "    def get_coord(self):\n",
    "        return (self.__x, self.__y, self.__z)\n",
    "    \n",
    "    def __str__(self):\n",
    "        msg = f\"({self.__x}, {self.__y}, {self.__z})\"\n",
    "        return msg\n",
    "    \n",
    "    def __add__(self, other):\n",
    "        self.__x = self.get_x() + other.get_x()\n",
    "        self.__y = self.get_y() + other.get_y()\n",
    "        self.__z = self.get_z() + other.get_z()\n",
    "        return self"
   ]
  },
  {
   "cell_type": "code",
   "execution_count": 108,
   "id": "73e256f3",
   "metadata": {},
   "outputs": [
    {
     "name": "stdout",
     "output_type": "stream",
     "text": [
      "(1, 1, 1)\n",
      "(0, 0, 0)\n"
     ]
    }
   ],
   "source": [
    "pt = Point3D(1, 1, 1)\n",
    "print(pt)\n",
    "pt2 = Point3D(-1, -1, -1)\n",
    "pt3 = pt + pt2\n",
    "print(pt3)"
   ]
  },
  {
   "cell_type": "code",
   "execution_count": null,
   "id": "9235bb3a",
   "metadata": {},
   "outputs": [],
   "source": []
  }
 ],
 "metadata": {
  "kernelspec": {
   "display_name": "Python 3 (ipykernel)",
   "language": "python",
   "name": "python3"
  },
  "language_info": {
   "codemirror_mode": {
    "name": "ipython",
    "version": 3
   },
   "file_extension": ".py",
   "mimetype": "text/x-python",
   "name": "python",
   "nbconvert_exporter": "python",
   "pygments_lexer": "ipython3",
   "version": "3.7.11"
  }
 },
 "nbformat": 4,
 "nbformat_minor": 5
}
