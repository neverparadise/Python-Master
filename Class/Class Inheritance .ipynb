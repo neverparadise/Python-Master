{
 "cells": [
  {
   "cell_type": "markdown",
   "id": "4c3a547f",
   "metadata": {},
   "source": [
    "# Class  \n",
    "\n",
    "클래스란? : 자료형을 쓸 때, 재사용성을 위해 사용한다. 하나의 자료형 구조를 가지고 새로운 것을 덧붙여서 사용하기 위해 쓴다.  \n",
    "클래스는 틀이다!!! 왜 사용할까? 반복을 줄이기 위해서, 더 파생시켜서 다른 기능이나 특성을 추가하고 싶을 때 사용한다. \n",
    "\n"
   ]
  },
  {
   "cell_type": "code",
   "execution_count": 6,
   "id": "e660d70e",
   "metadata": {},
   "outputs": [],
   "source": [
    "class Student:\n",
    "\n",
    "    id = 20210909\n",
    "    name = \"김국진\""
   ]
  },
  {
   "cell_type": "code",
   "execution_count": 7,
   "id": "f32fe05c",
   "metadata": {
    "scrolled": true
   },
   "outputs": [
    {
     "name": "stdout",
     "output_type": "stream",
     "text": [
      "20210909\n",
      "김국진\n"
     ]
    }
   ],
   "source": [
    "student = Student()\n",
    "\n",
    "print(student.id)\n",
    "print(student.name)\n"
   ]
  },
  {
   "cell_type": "code",
   "execution_count": 8,
   "id": "f1846c34",
   "metadata": {},
   "outputs": [],
   "source": [
    "a = 1"
   ]
  },
  {
   "cell_type": "code",
   "execution_count": 28,
   "id": "ba4d3f64",
   "metadata": {},
   "outputs": [],
   "source": [
    "class Student:\n",
    "    # 멤버변수 : 클래스의 내부변수\n",
    "    _id = None\n",
    "    name = None\n",
    "    \n",
    "    # 생성자\n",
    "    # 생성자는 객체가 생성될 때 최초로 호출되는 함수이다. 멤버변수를 초기화할 때 주로 사용합니다. \n",
    "    def __init__(self, _id, name):\n",
    "        self._id = _id\n",
    "        self.name = name\n",
    "    \n",
    "    "
   ]
  },
  {
   "cell_type": "code",
   "execution_count": 12,
   "id": "9c7e122c",
   "metadata": {},
   "outputs": [
    {
     "ename": "TypeError",
     "evalue": "__init__() missing 2 required positional arguments: '_id' and 'name'",
     "output_type": "error",
     "traceback": [
      "\u001b[0;31m---------------------------------------------------------------------------\u001b[0m",
      "\u001b[0;31mTypeError\u001b[0m                                 Traceback (most recent call last)",
      "\u001b[0;32m<ipython-input-12-fc26ea89e79a>\u001b[0m in \u001b[0;36m<module>\u001b[0;34m\u001b[0m\n\u001b[0;32m----> 1\u001b[0;31m \u001b[0mstu\u001b[0m \u001b[0;34m=\u001b[0m \u001b[0mStudent\u001b[0m\u001b[0;34m(\u001b[0m\u001b[0;34m)\u001b[0m\u001b[0;34m\u001b[0m\u001b[0;34m\u001b[0m\u001b[0m\n\u001b[0m",
      "\u001b[0;31mTypeError\u001b[0m: __init__() missing 2 required positional arguments: '_id' and 'name'"
     ]
    }
   ],
   "source": [
    "stu = Student()"
   ]
  },
  {
   "cell_type": "code",
   "execution_count": 18,
   "id": "8d8654da",
   "metadata": {
    "scrolled": true
   },
   "outputs": [
    {
     "name": "stdout",
     "output_type": "stream",
     "text": [
      "True\n",
      "<class 'int'>\n",
      "False\n",
      "20210909\n",
      "김국진\n"
     ]
    }
   ],
   "source": [
    "stu = Student(20210909, \"김국진\")\n",
    "stu2 = Student(20210910, \"김지현\")\n",
    "\n",
    "# stu를 Student 클래스의 인스턴스라고 한다. \n",
    "# Class를 통해서 생성되는 오브젝트를 인스턴스라고 한다. \n",
    "# 붕어빵틀 = Stduent Class\n",
    "# 붕어빵 = stu, stu2\n",
    "\n",
    "a = 3\n",
    "\n",
    "print(isinstance(stu, Student))\n",
    "print(type(a))\n",
    "print(isinstance(a, Student))\n",
    "\n",
    "\n",
    "# . 멤버접근연산자. 이를 통해서 클래스 내부의 변수나 함수에 접근할 수 있습니다. \n",
    "print(stu.id)\n",
    "print(stu.name)"
   ]
  },
  {
   "cell_type": "code",
   "execution_count": 23,
   "id": "1668c482",
   "metadata": {},
   "outputs": [
    {
     "name": "stdout",
     "output_type": "stream",
     "text": [
      "94447237297448\n",
      "94447209425792\n"
     ]
    }
   ],
   "source": [
    "# id는 메모리 주소를 알려주는 파이썬 내부 함수이다. \n",
    "\n",
    "print(id(Student))\n",
    "print(id(a))"
   ]
  },
  {
   "cell_type": "code",
   "execution_count": 37,
   "id": "132f728b",
   "metadata": {},
   "outputs": [],
   "source": [
    "class Student:\n",
    "    # 멤버변수 : 클래스의 내부변수\n",
    "    \n",
    "    # 멤버변수의 속성에는 public, protected, private\n",
    "    \n",
    "    _id = None # protected\n",
    "    name = None # public\n",
    "    __age = None # private\n",
    "    __password = None\n",
    "    \n",
    "    # 생성자\n",
    "    # 생성자는 객체가 생성될 때 최초로 호출되는 함수이다. 멤버변수를 초기화할 때 주로 사용합니다. \n",
    "    def __init__(self, _id, name, age):\n",
    "        self._id = _id\n",
    "        self.name = name\n",
    "        self.__age = age\n",
    "        \n",
    "    # 메소드 : 클래스 내부의 함수\n",
    "    # id 멤버변수를 변경한다. \n",
    "    def set_id(self, _id):\n",
    "        self._id = _id\n",
    "    \n",
    "    # age 멤버변수를 반환한다. \n",
    "    def get_age(self):\n",
    "        return self.__age\n",
    "      \n",
    "        "
   ]
  },
  {
   "cell_type": "code",
   "execution_count": 38,
   "id": "85df5c23",
   "metadata": {
    "scrolled": true
   },
   "outputs": [
    {
     "name": "stdout",
     "output_type": "stream",
     "text": [
      "20210909\n",
      "1234\n"
     ]
    }
   ],
   "source": [
    "stu = Student(20210909, \"김국진\", 900)\n",
    "print(stu._id)\n",
    "stu.set_id(1234)\n",
    "print(stu._id)"
   ]
  },
  {
   "cell_type": "code",
   "execution_count": 39,
   "id": "700274ba",
   "metadata": {},
   "outputs": [
    {
     "name": "stdout",
     "output_type": "stream",
     "text": [
      "900\n"
     ]
    }
   ],
   "source": [
    "print(stu.get_age())"
   ]
  },
  {
   "cell_type": "markdown",
   "id": "24bf0200",
   "metadata": {},
   "source": [
    "클래스의 멤버변수, 생성자, 메소드, 멤버접근 연산자, 인스턴스\n",
    "\n",
    "위 개념들이 뭔지 다 알고 있어야 좋은 프로그램을 개발할 수 있습니다!!"
   ]
  },
  {
   "cell_type": "code",
   "execution_count": 42,
   "id": "0820a4d0",
   "metadata": {},
   "outputs": [],
   "source": [
    "class DoorLock:\n",
    "    \n",
    "    def __init__(self, name, pw):\n",
    "        self.name = name\n",
    "        self.pw = pw\n",
    "        \n",
    "    def open_door(self, name, pw):\n",
    "        # 구현\n",
    "        # 이 함수는 name과 pw를 멤버변수와 비교합니다. \n",
    "        # 조건문을 이용해서 함수를 호출하면 문이 열렸는지\n",
    "        # 안열렸는지를 True, False로 반환하는 함수를 작성해보세요!!\n",
    "        \n",
    "        opened = None\n",
    "        if self.name == name and self.pw == pw:\n",
    "            opened = True\n",
    "        else:\n",
    "            opened = False\n",
    "        \n",
    "        return opened\n",
    "        \n",
    "        \n",
    "        #return self._name == name and self._pw == pw\n",
    "    "
   ]
  },
  {
   "cell_type": "code",
   "execution_count": 44,
   "id": "06e24a68",
   "metadata": {},
   "outputs": [
    {
     "name": "stdout",
     "output_type": "stream",
     "text": [
      "False\n",
      "True\n"
     ]
    }
   ],
   "source": [
    "door = DoorLock(\"김국진\", 1234)\n",
    "print(door.open_door(\"윤준영\", 1111))\n",
    "print(door.open_door(\"김국진\", 1234))\n",
    "\n"
   ]
  },
  {
   "cell_type": "code",
   "execution_count": null,
   "id": "3a90994f",
   "metadata": {},
   "outputs": [],
   "source": [
    "True"
   ]
  }
 ],
 "metadata": {
  "kernelspec": {
   "display_name": "Python 3",
   "language": "python",
   "name": "python3"
  },
  "language_info": {
   "codemirror_mode": {
    "name": "ipython",
    "version": 3
   },
   "file_extension": ".py",
   "mimetype": "text/x-python",
   "name": "python",
   "nbconvert_exporter": "python",
   "pygments_lexer": "ipython3",
   "version": "3.6.13"
  }
 },
 "nbformat": 4,
 "nbformat_minor": 5
}
