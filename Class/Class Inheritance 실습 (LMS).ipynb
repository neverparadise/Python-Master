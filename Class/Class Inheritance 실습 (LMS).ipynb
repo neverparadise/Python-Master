{
 "cells": [
  {
   "cell_type": "markdown",
   "id": "504b4661",
   "metadata": {},
   "source": [
    "# 클래스"
   ]
  },
  {
   "cell_type": "markdown",
   "id": "76bfe153",
   "metadata": {},
   "source": [
    "클래스? -> 인스턴스를 만드는 틀.\n",
    "클래스 : 붕어빵틀\n",
    "인스턴스 : 붕어빵\n",
    "\n",
    "클래스를 통해 여러 개의 변수를 관리하고자 함. \n"
   ]
  },
  {
   "cell_type": "code",
   "execution_count": null,
   "id": "fa37e36d",
   "metadata": {},
   "outputs": [],
   "source": [
    "variable1 = 3\n",
    "variable2 = \"사과\"\n",
    "variable3 = [1, 2, 3]\n"
   ]
  },
  {
   "cell_type": "code",
   "execution_count": 1,
   "id": "770ad8b5",
   "metadata": {},
   "outputs": [],
   "source": [
    "class FishBread:\n",
    "    price = 500\n",
    "    category = \"슈프림\""
   ]
  },
  {
   "cell_type": "code",
   "execution_count": 3,
   "id": "47e6c06a",
   "metadata": {},
   "outputs": [],
   "source": [
    "# 클래스를 통해 생성된 객체는 인스턴스라고 부른다. \n",
    "fb = FishBread()\n",
    "fb2 = FishBread()\n",
    "\n",
    "# fb, fb2는 FishBread 클래스의 인스턴스들이다.. "
   ]
  },
  {
   "cell_type": "code",
   "execution_count": 24,
   "id": "0c5311fe",
   "metadata": {},
   "outputs": [
    {
     "name": "stdout",
     "output_type": "stream",
     "text": [
      "500\n",
      "팥\n",
      "True\n",
      "False\n",
      "<class '__main__.MakeFishBread'>\n",
      "500\n"
     ]
    }
   ],
   "source": [
    "class MakeFishBread:\n",
    "    # 멤버변수 : 클래스 내부에 속한 변수. \n",
    "    price = None # public 멤버변수\n",
    "    category = None\n",
    "    __password = None # __가 붙으면 private 멤버변수\n",
    "    \n",
    "    # init 함수 생성자 : 인스턴스를 생성할 때 가장 먼저 호출하는 함수\n",
    "    # self 키워드 : 변수나 함수가 이 클래스 내부에 \n",
    "    # 속하는 것을 말합니다. \n",
    "    # 생성자는 멤버변수들을 초기화하는 역할을 한다. \n",
    "    def __init__(self, price, category, password):\n",
    "        self.price = price\n",
    "        self.category = category\n",
    "        self.__password = password\n",
    "    \n",
    "    # 메소드 : 클래스 내부의 멤버함수를 의미한다.\n",
    "    # 멤버변수를 새로 할당하는 메소드를 setter라고 한다. \n",
    "    # 멤버변수를 반환하는 메소드를 getter라고 한다. \n",
    "    \n",
    "    def set_price_and_category(self, price, category):\n",
    "        self.price = price\n",
    "        self.category = category\n",
    "    \n",
    "    def get_password(self, password):\n",
    "        if password == self.__password:\n",
    "            return self.__password\n",
    "        else:\n",
    "            return \"비밀번호가 틀렸습니다. \"\n",
    "    \n",
    "\n",
    "bread1 = MakeFishBread(500, \"팥\", 1234)\n",
    "\n",
    "# . 멤버접근연산자\n",
    "print(bread1.price)\n",
    "print(bread1.category)\n",
    "\n",
    "print(isinstance(bread1, MakeFishBread))\n",
    "print(isinstance(bread1, int))\n",
    "\n",
    "# 결국 bread1이라는 인스턴스는 MakeFishBread라는 \n",
    "# 자료형으로 생각할 수 있다\n",
    "print(type(bread1))\n",
    "print(bread1.price)"
   ]
  },
  {
   "cell_type": "code",
   "execution_count": 26,
   "id": "9962e141",
   "metadata": {},
   "outputs": [
    {
     "data": {
      "text/plain": [
       "1234"
      ]
     },
     "execution_count": 26,
     "metadata": {},
     "output_type": "execute_result"
    }
   ],
   "source": [
    "bread2 = MakeFishBread(700, \"슈프림\", 1234)\n",
    "#bread2.__password\n",
    "bread2.get_password(1020)\n",
    "bread2.get_password(1234)"
   ]
  },
  {
   "cell_type": "code",
   "execution_count": 29,
   "id": "5f08af3e",
   "metadata": {},
   "outputs": [
    {
     "name": "stdout",
     "output_type": "stream",
     "text": [
      "asdf\n",
      "1234\n",
      "--- 변경 후 \n",
      "fdsa\n",
      "4321\n"
     ]
    }
   ],
   "source": [
    "class Student:\n",
    "#     __id = None\n",
    "#     __pw = None #private\n",
    "#     name = None\n",
    "    \n",
    "    def __init__(self, __id, __pw, name):\n",
    "        self.__id = __id\n",
    "        self.__pw = __pw\n",
    "        self.name = name\n",
    "        \n",
    "    def get_id(self):\n",
    "        return self.__id\n",
    "    \n",
    "    def get_pw(self):\n",
    "        return self.__pw\n",
    "\n",
    "    def set_id(self, __id):\n",
    "        self.__id = __id\n",
    "\n",
    "    def set_pw(self, __pw):\n",
    "        self.__pw = __pw\n",
    "\n",
    "student1 = Student(\"asdf\", 1234, \"김국진\")\n",
    "print(student1.get_id())\n",
    "print(student1.get_pw())\n",
    "\n",
    "print(\"--- 변경 후 \")\n",
    "student1.set_id(\"fdsa\")\n",
    "student1.set_pw(4321)\n",
    "print(student1.get_id())\n",
    "print(student1.get_pw())\n",
    "\n",
    "# 1. 클래스 완성하기\n",
    "# 2. 인스턴스 만들기\n",
    "# 3. 메소드를 이용해 id, pw를 변경해보기\n",
    "\n",
    "# 기억해야할 것 !!!! \n",
    "# 멤버변수, 멤버접근 연산자, 인스턴스, 생성자, 메소드, setter, getter  "
   ]
  },
  {
   "cell_type": "code",
   "execution_count": null,
   "id": "0e844d94",
   "metadata": {},
   "outputs": [],
   "source": []
  }
 ],
 "metadata": {
  "kernelspec": {
   "display_name": "Python 3 (ipykernel)",
   "language": "python",
   "name": "python3"
  },
  "language_info": {
   "codemirror_mode": {
    "name": "ipython",
    "version": 3
   },
   "file_extension": ".py",
   "mimetype": "text/x-python",
   "name": "python",
   "nbconvert_exporter": "python",
   "pygments_lexer": "ipython3",
   "version": "3.7.11"
  }
 },
 "nbformat": 4,
 "nbformat_minor": 5
}
